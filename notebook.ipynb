{
 "cells": [
  {
   "cell_type": "markdown",
   "id": "c65815ff-8cf2-460e-8ef2-48542955aa4b",
   "metadata": {},
   "source": [
    "# Hotel Reservations"
   ]
  },
  {
   "cell_type": "markdown",
   "id": "4632888a-7514-439f-963b-e6cb90bc4224",
   "metadata": {},
   "source": [
    "## Overview"
   ]
  },
  {
   "cell_type": "markdown",
   "id": "816448de-6a33-4aed-82e9-2488fc15a483",
   "metadata": {},
   "source": []
  },
  {
   "cell_type": "markdown",
   "id": "98f17fbf-73cd-401b-a901-86a7c3128904",
   "metadata": {},
   "source": [
    "## Business Understanding"
   ]
  },
  {
   "cell_type": "markdown",
   "id": "cd188f48-3942-4b69-b8cd-344d2fd0ab1e",
   "metadata": {},
   "source": [
    "With the ease of booking and canceling hotel reservations online, hotel cancelations and no-shows have drastically increased. This poses a significant problem for hotel revenue. Hotels are losing out on money when there are vacant rooms due to last minute cancellations. To combat this issue, I am going to create a model that can predict when a customer is going to cancel their reservation. This will allow the hotel to overbook an appropriate number of rooms so that they are not losing out on money due to vacant rooms while also not booking more rooms than there is space for in the hotel.\n",
    "\n",
    "The stakeholders for this project are the hotel employees in charge of hotel bookings and operations, including the Reservations Manager, VP of Operations and, and VP of Revenue Management.\n",
    "\n",
    "This business problem is important to the stakeholders because it is crucial to increase revenue coming from hotel room bookings. Additionally, they need to accurately manage vacancies for guests, which also impact the price of the rooms.\n",
    "\n",
    "In order to solve this business problem, I will investigate the following 3 questions:\n",
    "1. What factors contribute to **hotel cancellations**?\n",
    "2. What factors contribute to **maintaining a hotel reservation**?\n",
    "3. How can hotels strategically price rooms to **increase revenue**?"
   ]
  },
  {
   "cell_type": "markdown",
   "id": "52b663e7-e91d-429a-820e-27b518f304cc",
   "metadata": {},
   "source": [
    "## Data Understanding"
   ]
  },
  {
   "cell_type": "markdown",
   "id": "4436f4ff-895d-4a72-8380-e9da27f1a64e",
   "metadata": {},
   "source": [
    "The [Hotel Reservations Dataset](https://www.kaggle.com/datasets/ahsan81/hotel-reservations-classification-dataset) extracted from Kaggle contains 36,275 entries of unique bookings ranging from 2017 to 2018. \n",
    "\n",
    "There are 19 columns, which are provided in the following data dictionary:\n",
    "\n",
    "**Data Dictionary**\n",
    "\n",
    "**Booking_ID**: unique identifier of each booking <br>\n",
    "**no_of_adults**: Number of adults <br>\n",
    "**no_of_children**: Number of Children <br>\n",
    "**no_of_weekend_nights**: Number of weekend nights (Saturday or Sunday) the guest stayed or booked to stay at the hotel <br>\n",
    "**no_of_week_nights**: Number of week nights (Monday to Friday) the guest stayed or booked to stay at the hotel <br>\n",
    "**type_of_meal_plan**: Type of meal plan booked by the customer <br>\n",
    "**required_car_parking_space**: Does the customer require a car parking space? (0 - No, 1- Yes)<br>\n",
    "**room_type_reserved**: Type of room reserved by the customer. The values are ciphered (encoded) by INN Hotels. <br>\n",
    "**lead_time**: Number of days between the date of booking and the arrival date <br>\n",
    "**arrival_year**: Year of arrival date <br>\n",
    "**arrival_month**: Month of arrival date <br>\n",
    "**arrival_date**: Date of the month <br>\n",
    "**market_segment_type**: Market segment designation <br>\n",
    "**repeated_guest**: Is the customer a repeated guest? (0 - No, 1- Yes) <br>\n",
    "**no_of_previous_cancellations**: Number of previous bookings that were canceled by the customer prior to the current booking <br>\n",
    "**no_of_previous_bookings_not_canceled**: Number of previous bookings not canceled by the customer prior to the current booking <br>\n",
    "**avg_price_per_room**: Average price per day of the reservation; prices of the rooms are dynamic. (in euros) <br>\n",
    "**no_of_special_requests**: Total number of special requests made by the customer (e.g. high floor, view from the room, etc) <br>\n",
    "**booking_status**: Flag indicating if the booking was canceled or not <br>\n",
    "\n",
    "The target variable will be `booking_status`."
   ]
  },
  {
   "cell_type": "markdown",
   "id": "d2654f48-ed25-47de-a6b4-630d33c77eb2",
   "metadata": {},
   "source": [
    "First, I must import necessary libraries that I will use for the EDA and data preparation."
   ]
  },
  {
   "cell_type": "code",
   "execution_count": 11,
   "id": "f0cf9924-9c65-4441-a2fc-ddff0cc2373f",
   "metadata": {},
   "outputs": [],
   "source": [
    "# Import necessary libraries\n",
    "import pandas as pd\n",
    "import numpy as np\n",
    "import matplotlib.pyplot as plt\n",
    "from sklearn.model_selection import train_test_split\n",
    "from sklearn.preprocessing import OneHotEncoder\n",
    "\n",
    "%matplotlib inline\n",
    "\n",
    "pd.options.mode.copy_on_write = True\n",
    "\n",
    "# Suppress harmless warning for use_inf_as_na\n",
    "import warnings\n",
    "warnings.simplefilter(action=\"ignore\", category=FutureWarning)"
   ]
  },
  {
   "cell_type": "markdown",
   "id": "c8629558-ed29-4627-913a-d53fe6c4b73e",
   "metadata": {},
   "source": [
    "Next I will load the dataset into the notebook."
   ]
  },
  {
   "cell_type": "code",
   "execution_count": 2,
   "id": "63a07d40-395e-43a7-a87e-49e18789883d",
   "metadata": {},
   "outputs": [],
   "source": [
    "data = pd.read_csv('data/hotel_reservations.csv')"
   ]
  },
  {
   "cell_type": "markdown",
   "id": "d5722a4a-e3bf-40e9-bba2-1d18e0aa8856",
   "metadata": {},
   "source": [
    "## Data Preparation"
   ]
  },
  {
   "cell_type": "code",
   "execution_count": 15,
   "id": "874d1b0c-962f-4462-b9a2-35046ada7d7b",
   "metadata": {},
   "outputs": [
    {
     "data": {
      "text/html": [
       "<div>\n",
       "<style scoped>\n",
       "    .dataframe tbody tr th:only-of-type {\n",
       "        vertical-align: middle;\n",
       "    }\n",
       "\n",
       "    .dataframe tbody tr th {\n",
       "        vertical-align: top;\n",
       "    }\n",
       "\n",
       "    .dataframe thead th {\n",
       "        text-align: right;\n",
       "    }\n",
       "</style>\n",
       "<table border=\"1\" class=\"dataframe\">\n",
       "  <thead>\n",
       "    <tr style=\"text-align: right;\">\n",
       "      <th></th>\n",
       "      <th>no_of_adults</th>\n",
       "      <th>no_of_children</th>\n",
       "      <th>no_of_weekend_nights</th>\n",
       "      <th>no_of_week_nights</th>\n",
       "      <th>type_of_meal_plan</th>\n",
       "      <th>required_car_parking_space</th>\n",
       "      <th>room_type_reserved</th>\n",
       "      <th>lead_time</th>\n",
       "      <th>arrival_year</th>\n",
       "      <th>arrival_month</th>\n",
       "      <th>arrival_date</th>\n",
       "      <th>market_segment_type</th>\n",
       "      <th>repeated_guest</th>\n",
       "      <th>no_of_previous_cancellations</th>\n",
       "      <th>no_of_previous_bookings_not_canceled</th>\n",
       "      <th>avg_price_per_room</th>\n",
       "      <th>no_of_special_requests</th>\n",
       "    </tr>\n",
       "  </thead>\n",
       "  <tbody>\n",
       "    <tr>\n",
       "      <th>2947</th>\n",
       "      <td>2</td>\n",
       "      <td>1</td>\n",
       "      <td>1</td>\n",
       "      <td>0</td>\n",
       "      <td>Meal Plan 1</td>\n",
       "      <td>0</td>\n",
       "      <td>Room_Type 1</td>\n",
       "      <td>0</td>\n",
       "      <td>2018</td>\n",
       "      <td>7</td>\n",
       "      <td>10</td>\n",
       "      <td>Online</td>\n",
       "      <td>0</td>\n",
       "      <td>0</td>\n",
       "      <td>0</td>\n",
       "      <td>15.00</td>\n",
       "      <td>0</td>\n",
       "    </tr>\n",
       "    <tr>\n",
       "      <th>3033</th>\n",
       "      <td>1</td>\n",
       "      <td>0</td>\n",
       "      <td>2</td>\n",
       "      <td>1</td>\n",
       "      <td>Meal Plan 1</td>\n",
       "      <td>0</td>\n",
       "      <td>Room_Type 1</td>\n",
       "      <td>1</td>\n",
       "      <td>2018</td>\n",
       "      <td>2</td>\n",
       "      <td>28</td>\n",
       "      <td>Online</td>\n",
       "      <td>0</td>\n",
       "      <td>0</td>\n",
       "      <td>0</td>\n",
       "      <td>60.00</td>\n",
       "      <td>0</td>\n",
       "    </tr>\n",
       "    <tr>\n",
       "      <th>30081</th>\n",
       "      <td>2</td>\n",
       "      <td>2</td>\n",
       "      <td>0</td>\n",
       "      <td>1</td>\n",
       "      <td>Meal Plan 1</td>\n",
       "      <td>0</td>\n",
       "      <td>Room_Type 2</td>\n",
       "      <td>111</td>\n",
       "      <td>2018</td>\n",
       "      <td>10</td>\n",
       "      <td>6</td>\n",
       "      <td>Online</td>\n",
       "      <td>0</td>\n",
       "      <td>0</td>\n",
       "      <td>0</td>\n",
       "      <td>221.40</td>\n",
       "      <td>1</td>\n",
       "    </tr>\n",
       "    <tr>\n",
       "      <th>21861</th>\n",
       "      <td>2</td>\n",
       "      <td>0</td>\n",
       "      <td>2</td>\n",
       "      <td>2</td>\n",
       "      <td>Meal Plan 1</td>\n",
       "      <td>0</td>\n",
       "      <td>Room_Type 1</td>\n",
       "      <td>28</td>\n",
       "      <td>2018</td>\n",
       "      <td>3</td>\n",
       "      <td>4</td>\n",
       "      <td>Online</td>\n",
       "      <td>0</td>\n",
       "      <td>0</td>\n",
       "      <td>0</td>\n",
       "      <td>73.88</td>\n",
       "      <td>0</td>\n",
       "    </tr>\n",
       "    <tr>\n",
       "      <th>11680</th>\n",
       "      <td>2</td>\n",
       "      <td>0</td>\n",
       "      <td>0</td>\n",
       "      <td>2</td>\n",
       "      <td>Meal Plan 1</td>\n",
       "      <td>0</td>\n",
       "      <td>Room_Type 4</td>\n",
       "      <td>14</td>\n",
       "      <td>2018</td>\n",
       "      <td>10</td>\n",
       "      <td>7</td>\n",
       "      <td>Online</td>\n",
       "      <td>0</td>\n",
       "      <td>0</td>\n",
       "      <td>0</td>\n",
       "      <td>170.00</td>\n",
       "      <td>2</td>\n",
       "    </tr>\n",
       "  </tbody>\n",
       "</table>\n",
       "</div>"
      ],
      "text/plain": [
       "       no_of_adults  no_of_children  no_of_weekend_nights  no_of_week_nights  \\\n",
       "2947              2               1                     1                  0   \n",
       "3033              1               0                     2                  1   \n",
       "30081             2               2                     0                  1   \n",
       "21861             2               0                     2                  2   \n",
       "11680             2               0                     0                  2   \n",
       "\n",
       "      type_of_meal_plan  required_car_parking_space room_type_reserved  \\\n",
       "2947        Meal Plan 1                           0        Room_Type 1   \n",
       "3033        Meal Plan 1                           0        Room_Type 1   \n",
       "30081       Meal Plan 1                           0        Room_Type 2   \n",
       "21861       Meal Plan 1                           0        Room_Type 1   \n",
       "11680       Meal Plan 1                           0        Room_Type 4   \n",
       "\n",
       "       lead_time  arrival_year  arrival_month  arrival_date  \\\n",
       "2947           0          2018              7            10   \n",
       "3033           1          2018              2            28   \n",
       "30081        111          2018             10             6   \n",
       "21861         28          2018              3             4   \n",
       "11680         14          2018             10             7   \n",
       "\n",
       "      market_segment_type  repeated_guest  no_of_previous_cancellations  \\\n",
       "2947               Online               0                             0   \n",
       "3033               Online               0                             0   \n",
       "30081              Online               0                             0   \n",
       "21861              Online               0                             0   \n",
       "11680              Online               0                             0   \n",
       "\n",
       "       no_of_previous_bookings_not_canceled  avg_price_per_room  \\\n",
       "2947                                      0               15.00   \n",
       "3033                                      0               60.00   \n",
       "30081                                     0              221.40   \n",
       "21861                                     0               73.88   \n",
       "11680                                     0              170.00   \n",
       "\n",
       "       no_of_special_requests  \n",
       "2947                        0  \n",
       "3033                        0  \n",
       "30081                       1  \n",
       "21861                       0  \n",
       "11680                       2  "
      ]
     },
     "execution_count": 15,
     "metadata": {},
     "output_type": "execute_result"
    }
   ],
   "source": [
    "# Preview the first 5 rows of the train data\n",
    "data.head()"
   ]
  },
  {
   "cell_type": "code",
   "execution_count": 5,
   "id": "5c487bba-a09a-4a63-addc-cb602bf98ac5",
   "metadata": {},
   "outputs": [
    {
     "name": "stdout",
     "output_type": "stream",
     "text": [
      "<class 'pandas.core.frame.DataFrame'>\n",
      "Index: 27206 entries, 2947 to 4089\n",
      "Data columns (total 19 columns):\n",
      " #   Column                                Non-Null Count  Dtype  \n",
      "---  ------                                --------------  -----  \n",
      " 0   Booking_ID                            27206 non-null  object \n",
      " 1   no_of_adults                          27206 non-null  int64  \n",
      " 2   no_of_children                        27206 non-null  int64  \n",
      " 3   no_of_weekend_nights                  27206 non-null  int64  \n",
      " 4   no_of_week_nights                     27206 non-null  int64  \n",
      " 5   type_of_meal_plan                     27206 non-null  object \n",
      " 6   required_car_parking_space            27206 non-null  int64  \n",
      " 7   room_type_reserved                    27206 non-null  object \n",
      " 8   lead_time                             27206 non-null  int64  \n",
      " 9   arrival_year                          27206 non-null  int64  \n",
      " 10  arrival_month                         27206 non-null  int64  \n",
      " 11  arrival_date                          27206 non-null  int64  \n",
      " 12  market_segment_type                   27206 non-null  object \n",
      " 13  repeated_guest                        27206 non-null  int64  \n",
      " 14  no_of_previous_cancellations          27206 non-null  int64  \n",
      " 15  no_of_previous_bookings_not_canceled  27206 non-null  int64  \n",
      " 16  avg_price_per_room                    27206 non-null  float64\n",
      " 17  no_of_special_requests                27206 non-null  int64  \n",
      " 18  booking_status                        27206 non-null  object \n",
      "dtypes: float64(1), int64(13), object(5)\n",
      "memory usage: 4.2+ MB\n"
     ]
    }
   ],
   "source": [
    "# View the overall shape, dtypes and null counts for each column in train data\n",
    "data.info()"
   ]
  },
  {
   "cell_type": "code",
   "execution_count": 18,
   "id": "770f7015-b794-46d9-9cfb-598e5cf67038",
   "metadata": {},
   "outputs": [
    {
     "data": {
      "text/plain": [
       "False    36275\n",
       "Name: count, dtype: int64"
      ]
     },
     "execution_count": 18,
     "metadata": {},
     "output_type": "execute_result"
    }
   ],
   "source": [
    "# Check if there are any duplicates in the train data\n",
    "data.duplicated(subset='Booking_ID').value_counts()"
   ]
  },
  {
   "cell_type": "markdown",
   "id": "b6c249b4-27a7-457e-806f-ffca3d7d7c9a",
   "metadata": {},
   "source": [
    "There are no null values in the dataset. `repeated_guest` is of type integer but seems to be categorical, with 0 corresponsing to not a repeated guest and 1 corresponding to a repeated guest. \n",
    "\n",
    "In fact, our **categorical variables** are as follows: `type_of_meal_plan`, `required_car_parking_space`, `room_type_reserved`, `market_segment_type`, and `repeated_guest`. \n",
    "\n",
    "Our **quantitative variables** are `no_of_adults`, `no_of_children`, `no_of_weekend_nights`, `no_of_week_nights`, `lead_time`, `arrival_year`, `arrival_month`, `arrival_date`, `no_of_previous_cancellations`, `no_of_previous_bookings_not_canceled`, `avg_price_per_room`, and `no_of_special_requests`.\n",
    "\n",
    "I will investigate the relationship between these features and the target, `booking_status`, to build a model that will predict whether a customer will cancel their reservation or not.\n",
    "\n",
    "I am not using `Booking_ID` as a variable, as its purpose is just to confirm that each entry is a unique booking."
   ]
  },
  {
   "cell_type": "code",
   "execution_count": 7,
   "id": "6121273f-4e5a-4f62-887f-09e4f4739f05",
   "metadata": {},
   "outputs": [
    {
     "data": {
      "text/html": [
       "<div>\n",
       "<style scoped>\n",
       "    .dataframe tbody tr th:only-of-type {\n",
       "        vertical-align: middle;\n",
       "    }\n",
       "\n",
       "    .dataframe tbody tr th {\n",
       "        vertical-align: top;\n",
       "    }\n",
       "\n",
       "    .dataframe thead th {\n",
       "        text-align: right;\n",
       "    }\n",
       "</style>\n",
       "<table border=\"1\" class=\"dataframe\">\n",
       "  <thead>\n",
       "    <tr style=\"text-align: right;\">\n",
       "      <th></th>\n",
       "      <th>no_of_adults</th>\n",
       "      <th>no_of_children</th>\n",
       "      <th>no_of_weekend_nights</th>\n",
       "      <th>no_of_week_nights</th>\n",
       "      <th>required_car_parking_space</th>\n",
       "      <th>lead_time</th>\n",
       "      <th>arrival_year</th>\n",
       "      <th>arrival_month</th>\n",
       "      <th>arrival_date</th>\n",
       "      <th>repeated_guest</th>\n",
       "      <th>no_of_previous_cancellations</th>\n",
       "      <th>no_of_previous_bookings_not_canceled</th>\n",
       "      <th>avg_price_per_room</th>\n",
       "      <th>no_of_special_requests</th>\n",
       "    </tr>\n",
       "  </thead>\n",
       "  <tbody>\n",
       "    <tr>\n",
       "      <th>count</th>\n",
       "      <td>27206.000000</td>\n",
       "      <td>27206.000000</td>\n",
       "      <td>27206.000000</td>\n",
       "      <td>27206.000000</td>\n",
       "      <td>27206.000000</td>\n",
       "      <td>27206.000000</td>\n",
       "      <td>27206.000000</td>\n",
       "      <td>27206.000000</td>\n",
       "      <td>27206.000000</td>\n",
       "      <td>27206.000000</td>\n",
       "      <td>27206.000000</td>\n",
       "      <td>27206.000000</td>\n",
       "      <td>27206.000000</td>\n",
       "      <td>27206.000000</td>\n",
       "    </tr>\n",
       "    <tr>\n",
       "      <th>mean</th>\n",
       "      <td>1.845769</td>\n",
       "      <td>0.105969</td>\n",
       "      <td>0.809086</td>\n",
       "      <td>2.206131</td>\n",
       "      <td>0.031500</td>\n",
       "      <td>84.895097</td>\n",
       "      <td>2017.820297</td>\n",
       "      <td>7.422150</td>\n",
       "      <td>15.596192</td>\n",
       "      <td>0.025436</td>\n",
       "      <td>0.021907</td>\n",
       "      <td>0.144417</td>\n",
       "      <td>103.224453</td>\n",
       "      <td>0.620709</td>\n",
       "    </tr>\n",
       "    <tr>\n",
       "      <th>std</th>\n",
       "      <td>0.517187</td>\n",
       "      <td>0.406051</td>\n",
       "      <td>0.873351</td>\n",
       "      <td>1.422998</td>\n",
       "      <td>0.174669</td>\n",
       "      <td>85.658628</td>\n",
       "      <td>0.383947</td>\n",
       "      <td>3.083752</td>\n",
       "      <td>8.714875</td>\n",
       "      <td>0.157447</td>\n",
       "      <td>0.348755</td>\n",
       "      <td>1.674084</td>\n",
       "      <td>35.110905</td>\n",
       "      <td>0.787821</td>\n",
       "    </tr>\n",
       "    <tr>\n",
       "      <th>min</th>\n",
       "      <td>0.000000</td>\n",
       "      <td>0.000000</td>\n",
       "      <td>0.000000</td>\n",
       "      <td>0.000000</td>\n",
       "      <td>0.000000</td>\n",
       "      <td>0.000000</td>\n",
       "      <td>2017.000000</td>\n",
       "      <td>1.000000</td>\n",
       "      <td>1.000000</td>\n",
       "      <td>0.000000</td>\n",
       "      <td>0.000000</td>\n",
       "      <td>0.000000</td>\n",
       "      <td>0.000000</td>\n",
       "      <td>0.000000</td>\n",
       "    </tr>\n",
       "    <tr>\n",
       "      <th>25%</th>\n",
       "      <td>2.000000</td>\n",
       "      <td>0.000000</td>\n",
       "      <td>0.000000</td>\n",
       "      <td>1.000000</td>\n",
       "      <td>0.000000</td>\n",
       "      <td>17.000000</td>\n",
       "      <td>2018.000000</td>\n",
       "      <td>5.000000</td>\n",
       "      <td>8.000000</td>\n",
       "      <td>0.000000</td>\n",
       "      <td>0.000000</td>\n",
       "      <td>0.000000</td>\n",
       "      <td>80.000000</td>\n",
       "      <td>0.000000</td>\n",
       "    </tr>\n",
       "    <tr>\n",
       "      <th>50%</th>\n",
       "      <td>2.000000</td>\n",
       "      <td>0.000000</td>\n",
       "      <td>1.000000</td>\n",
       "      <td>2.000000</td>\n",
       "      <td>0.000000</td>\n",
       "      <td>57.000000</td>\n",
       "      <td>2018.000000</td>\n",
       "      <td>8.000000</td>\n",
       "      <td>16.000000</td>\n",
       "      <td>0.000000</td>\n",
       "      <td>0.000000</td>\n",
       "      <td>0.000000</td>\n",
       "      <td>99.405000</td>\n",
       "      <td>0.000000</td>\n",
       "    </tr>\n",
       "    <tr>\n",
       "      <th>75%</th>\n",
       "      <td>2.000000</td>\n",
       "      <td>0.000000</td>\n",
       "      <td>2.000000</td>\n",
       "      <td>3.000000</td>\n",
       "      <td>0.000000</td>\n",
       "      <td>126.000000</td>\n",
       "      <td>2018.000000</td>\n",
       "      <td>10.000000</td>\n",
       "      <td>23.000000</td>\n",
       "      <td>0.000000</td>\n",
       "      <td>0.000000</td>\n",
       "      <td>0.000000</td>\n",
       "      <td>120.000000</td>\n",
       "      <td>1.000000</td>\n",
       "    </tr>\n",
       "    <tr>\n",
       "      <th>max</th>\n",
       "      <td>4.000000</td>\n",
       "      <td>10.000000</td>\n",
       "      <td>7.000000</td>\n",
       "      <td>17.000000</td>\n",
       "      <td>1.000000</td>\n",
       "      <td>443.000000</td>\n",
       "      <td>2018.000000</td>\n",
       "      <td>12.000000</td>\n",
       "      <td>31.000000</td>\n",
       "      <td>1.000000</td>\n",
       "      <td>13.000000</td>\n",
       "      <td>58.000000</td>\n",
       "      <td>540.000000</td>\n",
       "      <td>5.000000</td>\n",
       "    </tr>\n",
       "  </tbody>\n",
       "</table>\n",
       "</div>"
      ],
      "text/plain": [
       "       no_of_adults  no_of_children  no_of_weekend_nights  no_of_week_nights  \\\n",
       "count  27206.000000    27206.000000          27206.000000       27206.000000   \n",
       "mean       1.845769        0.105969              0.809086           2.206131   \n",
       "std        0.517187        0.406051              0.873351           1.422998   \n",
       "min        0.000000        0.000000              0.000000           0.000000   \n",
       "25%        2.000000        0.000000              0.000000           1.000000   \n",
       "50%        2.000000        0.000000              1.000000           2.000000   \n",
       "75%        2.000000        0.000000              2.000000           3.000000   \n",
       "max        4.000000       10.000000              7.000000          17.000000   \n",
       "\n",
       "       required_car_parking_space     lead_time  arrival_year  arrival_month  \\\n",
       "count                27206.000000  27206.000000  27206.000000   27206.000000   \n",
       "mean                     0.031500     84.895097   2017.820297       7.422150   \n",
       "std                      0.174669     85.658628      0.383947       3.083752   \n",
       "min                      0.000000      0.000000   2017.000000       1.000000   \n",
       "25%                      0.000000     17.000000   2018.000000       5.000000   \n",
       "50%                      0.000000     57.000000   2018.000000       8.000000   \n",
       "75%                      0.000000    126.000000   2018.000000      10.000000   \n",
       "max                      1.000000    443.000000   2018.000000      12.000000   \n",
       "\n",
       "       arrival_date  repeated_guest  no_of_previous_cancellations  \\\n",
       "count  27206.000000    27206.000000                  27206.000000   \n",
       "mean      15.596192        0.025436                      0.021907   \n",
       "std        8.714875        0.157447                      0.348755   \n",
       "min        1.000000        0.000000                      0.000000   \n",
       "25%        8.000000        0.000000                      0.000000   \n",
       "50%       16.000000        0.000000                      0.000000   \n",
       "75%       23.000000        0.000000                      0.000000   \n",
       "max       31.000000        1.000000                     13.000000   \n",
       "\n",
       "       no_of_previous_bookings_not_canceled  avg_price_per_room  \\\n",
       "count                          27206.000000        27206.000000   \n",
       "mean                               0.144417          103.224453   \n",
       "std                                1.674084           35.110905   \n",
       "min                                0.000000            0.000000   \n",
       "25%                                0.000000           80.000000   \n",
       "50%                                0.000000           99.405000   \n",
       "75%                                0.000000          120.000000   \n",
       "max                               58.000000          540.000000   \n",
       "\n",
       "       no_of_special_requests  \n",
       "count            27206.000000  \n",
       "mean                 0.620709  \n",
       "std                  0.787821  \n",
       "min                  0.000000  \n",
       "25%                  0.000000  \n",
       "50%                  0.000000  \n",
       "75%                  1.000000  \n",
       "max                  5.000000  "
      ]
     },
     "execution_count": 7,
     "metadata": {},
     "output_type": "execute_result"
    }
   ],
   "source": [
    "# Generate descriptive statistics of numerical variables in the data\n",
    "data.describe()"
   ]
  },
  {
   "cell_type": "markdown",
   "id": "d6486d3c-dfdb-4959-a07d-fa4b78bd8041",
   "metadata": {},
   "source": [
    "I will convert the values in `booking_status` to 1 for 'Canceled' and 0 for 'Not_Canceled.'"
   ]
  },
  {
   "cell_type": "code",
   "execution_count": 8,
   "id": "51037622-105d-41eb-a0ce-b56bd6902207",
   "metadata": {},
   "outputs": [
    {
     "data": {
      "text/plain": [
       "booking_status\n",
       "0    18368\n",
       "1     8838\n",
       "Name: count, dtype: int64"
      ]
     },
     "execution_count": 8,
     "metadata": {},
     "output_type": "execute_result"
    }
   ],
   "source": [
    "# Convert values in the target column to 0's and 1's\n",
    "data['booking_status'] = data['booking_status'].map({'Canceled': 1,\n",
    "                                                       'Not_Canceled': 0})\n",
    "\n",
    "# Confirm it has been done correctly\n",
    "data['booking_status'].value_counts()"
   ]
  },
  {
   "cell_type": "markdown",
   "id": "d7513f38-f430-47cf-a80c-6951833030ad",
   "metadata": {},
   "source": [
    "I will now convert the rest of the variables with string variables to numerical variables. I will then compute OneHotEncoder on these variables to begin feature selection."
   ]
  },
  {
   "cell_type": "code",
   "execution_count": 9,
   "id": "f40cb4fd-8ab2-41d6-978b-794bd56cd36d",
   "metadata": {},
   "outputs": [
    {
     "name": "stdout",
     "output_type": "stream",
     "text": [
      "type_of_meal_plan\n",
      "Meal Plan 1     20879\n",
      "Not Selected     3845\n",
      "Meal Plan 2      2477\n",
      "Meal Plan 3         5\n",
      "Name: count, dtype: int64\n",
      "\n",
      "\n",
      "room_type_reserved\n",
      "Room_Type 1    21108\n",
      "Room_Type 4     4551\n",
      "Room_Type 6      712\n",
      "Room_Type 2      522\n",
      "Room_Type 5      191\n",
      "Room_Type 7      116\n",
      "Room_Type 3        6\n",
      "Name: count, dtype: int64\n",
      "\n",
      "\n",
      "market_segment_type\n",
      "Online           17428\n",
      "Offline           7885\n",
      "Corporate         1507\n",
      "Complementary      295\n",
      "Aviation            91\n",
      "Name: count, dtype: int64\n"
     ]
    }
   ],
   "source": [
    "# Check how many value types are in each variable with string values\n",
    "print(data['type_of_meal_plan'].value_counts())\n",
    "print('\\n')\n",
    "\n",
    "print(data['room_type_reserved'].value_counts())\n",
    "print('\\n')\n",
    "\n",
    "print(data['market_segment_type'].value_counts())"
   ]
  },
  {
   "cell_type": "code",
   "execution_count": 10,
   "id": "67a6c53e-8af8-41e6-bd96-d2826dc33b70",
   "metadata": {},
   "outputs": [],
   "source": [
    "# Convert values in the type_of_meal_plan to numerical values\n",
    "data['type_of_meal_plan'] = data['type_of_meal_plan'].map({'Not Selected': 0,\n",
    "                                                             'Meal Plan 1': 1,\n",
    "                                                             'Meal Plan 2': 2,\n",
    "                                                             'Meal Plan 3': 3})\n",
    "\n",
    "# Convert values in the room_type_reserved to numerical values\n",
    "data['room_type_reserved'] = data['room_type_reserved'].map({'Room_Type 1': 1,\n",
    "                                                             'Room_Type 2': 2,\n",
    "                                                             'Room_Type 3': 3,\n",
    "                                                             'Room_Type 4': 4,\n",
    "                                                             'Room_Type 5': 5,\n",
    "                                                             'Room_Type 6': 6,\n",
    "                                                             'Room_Type 7': 7})\n",
    "\n",
    "\n",
    "# Convert values in the market_segment_type to numerical values\n",
    "data['market_segment_type'] = data['market_segment_type'].map({'Offline': 0,\n",
    "                                                             'Online': 1,\n",
    "                                                             'Corporate': 2,\n",
    "                                                             'Complementary': 3,\n",
    "                                                             'Aviation': 5})"
   ]
  },
  {
   "cell_type": "code",
   "execution_count": null,
   "id": "363181c9-dd58-4c72-9d1f-a08c3a79ea7d",
   "metadata": {},
   "outputs": [],
   "source": []
  },
  {
   "cell_type": "markdown",
   "id": "02d9efe0-e64c-46da-a9ab-43011d275c56",
   "metadata": {},
   "source": [
    "Before preparing my data, I will use `train_test_split` to split my data into a train set and a test set. This is to prevent data leakage. When I test my model on the test set, I want it to mimic unknown data as best as possible. "
   ]
  },
  {
   "cell_type": "code",
   "execution_count": null,
   "id": "9bd6aca7-1419-418f-854e-9124577bc1f5",
   "metadata": {},
   "outputs": [],
   "source": [
    "# Split dataset into features and target\n",
    "\n",
    "X = data.drop(columns=['booking_status', 'Booking_ID'], axis = 1)\n",
    "y = data['booking_status']"
   ]
  },
  {
   "cell_type": "code",
   "execution_count": null,
   "id": "f3bf23e0-2494-4f60-bd97-d3dd270eeb7c",
   "metadata": {},
   "outputs": [],
   "source": [
    "# Split the data into a train set and a test set using default values where 75% of the data is train and the remaining\n",
    "# 25% is the test data\n",
    "# Random state used for reproducibility\n",
    "X_train, X_test, y_train, y_test = train_test_split(X, y, shuffle=True, random_state=28)"
   ]
  },
  {
   "cell_type": "code",
   "execution_count": null,
   "id": "2fd1dfb0-7144-4d28-afe7-75dfb7779fa5",
   "metadata": {},
   "outputs": [],
   "source": []
  },
  {
   "cell_type": "code",
   "execution_count": null,
   "id": "3270419c-4b6a-4f6a-ad83-7e9c10c281b9",
   "metadata": {},
   "outputs": [],
   "source": []
  },
  {
   "cell_type": "code",
   "execution_count": null,
   "id": "caf700ed-8374-4ac5-b343-f26961603a0c",
   "metadata": {},
   "outputs": [],
   "source": []
  },
  {
   "cell_type": "code",
   "execution_count": null,
   "id": "97fec4a8-2c01-41be-966f-2a8a04e1c41b",
   "metadata": {},
   "outputs": [],
   "source": [
    "# Create dummy variables for categorical features\n",
    "ohe = OneHotEncoder(drop='first', sparse_output=False)\n",
    "\n",
    "# Create dataframe with only the columns that require One Hot Encoding\n",
    "categorical_train = train[['type_of_meal_plan', 'required_car_parking_space', 'room_type_reserved', \n",
    "                          'market_segment_type', 'repeated_guest']].copy()\n",
    "\n",
    "ohe.fit(categorical_train)\n",
    "ohe.transform(categorical_train)\n",
    "\n",
    "# Create new dataframe with One Hot Encoded columns\n",
    "categorical_train_ohe = pd.DataFrame(data = ohe.transform(categorical_train),\n",
    "                                     columns = [f'origin_{cat}' for cat in ohe.categories_[0][1:]])\n",
    "\n",
    "# Create dummy variable for sex\n",
    "ohe = OneHotEncoder(drop='first', sparse_output=False)\n",
    "train_female = ohe.fit_transform(X_train[['SEX']]).flatten()\n",
    "test_female = ohe.transform(X_test[['SEX']]).flatten()"
   ]
  },
  {
   "cell_type": "code",
   "execution_count": 9,
   "id": "a890c097-946b-4302-a91d-8286dc55b8ae",
   "metadata": {},
   "outputs": [
    {
     "ename": "TypeError",
     "evalue": "unsupported operand type(s) for /: 'str' and 'int'",
     "output_type": "error",
     "traceback": [
      "\u001b[0;31m---------------------------------------------------------------------------\u001b[0m",
      "\u001b[0;31mTypeError\u001b[0m                                 Traceback (most recent call last)",
      "Cell \u001b[0;32mIn[9], line 1\u001b[0m\n\u001b[0;32m----> 1\u001b[0m np\u001b[38;5;241m.\u001b[39mcorrcoef(data[\u001b[38;5;124m'\u001b[39m\u001b[38;5;124mno_of_adults\u001b[39m\u001b[38;5;124m'\u001b[39m], data[\u001b[38;5;124m'\u001b[39m\u001b[38;5;124mbooking_status\u001b[39m\u001b[38;5;124m'\u001b[39m])\n",
      "File \u001b[0;32m~/anaconda3/lib/python3.11/site-packages/numpy/lib/function_base.py:2889\u001b[0m, in \u001b[0;36mcorrcoef\u001b[0;34m(x, y, rowvar, bias, ddof, dtype)\u001b[0m\n\u001b[1;32m   2885\u001b[0m \u001b[38;5;28;01mif\u001b[39;00m bias \u001b[38;5;129;01mis\u001b[39;00m \u001b[38;5;129;01mnot\u001b[39;00m np\u001b[38;5;241m.\u001b[39m_NoValue \u001b[38;5;129;01mor\u001b[39;00m ddof \u001b[38;5;129;01mis\u001b[39;00m \u001b[38;5;129;01mnot\u001b[39;00m np\u001b[38;5;241m.\u001b[39m_NoValue:\n\u001b[1;32m   2886\u001b[0m     \u001b[38;5;66;03m# 2015-03-15, 1.10\u001b[39;00m\n\u001b[1;32m   2887\u001b[0m     warnings\u001b[38;5;241m.\u001b[39mwarn(\u001b[38;5;124m'\u001b[39m\u001b[38;5;124mbias and ddof have no effect and are deprecated\u001b[39m\u001b[38;5;124m'\u001b[39m,\n\u001b[1;32m   2888\u001b[0m                   \u001b[38;5;167;01mDeprecationWarning\u001b[39;00m, stacklevel\u001b[38;5;241m=\u001b[39m\u001b[38;5;241m2\u001b[39m)\n\u001b[0;32m-> 2889\u001b[0m c \u001b[38;5;241m=\u001b[39m cov(x, y, rowvar, dtype\u001b[38;5;241m=\u001b[39mdtype)\n\u001b[1;32m   2890\u001b[0m \u001b[38;5;28;01mtry\u001b[39;00m:\n\u001b[1;32m   2891\u001b[0m     d \u001b[38;5;241m=\u001b[39m diag(c)\n",
      "File \u001b[0;32m~/anaconda3/lib/python3.11/site-packages/numpy/lib/function_base.py:2724\u001b[0m, in \u001b[0;36mcov\u001b[0;34m(m, y, rowvar, bias, ddof, fweights, aweights, dtype)\u001b[0m\n\u001b[1;32m   2721\u001b[0m     \u001b[38;5;28;01melse\u001b[39;00m:\n\u001b[1;32m   2722\u001b[0m         w \u001b[38;5;241m*\u001b[39m\u001b[38;5;241m=\u001b[39m aweights\n\u001b[0;32m-> 2724\u001b[0m avg, w_sum \u001b[38;5;241m=\u001b[39m average(X, axis\u001b[38;5;241m=\u001b[39m\u001b[38;5;241m1\u001b[39m, weights\u001b[38;5;241m=\u001b[39mw, returned\u001b[38;5;241m=\u001b[39m\u001b[38;5;28;01mTrue\u001b[39;00m)\n\u001b[1;32m   2725\u001b[0m w_sum \u001b[38;5;241m=\u001b[39m w_sum[\u001b[38;5;241m0\u001b[39m]\n\u001b[1;32m   2727\u001b[0m \u001b[38;5;66;03m# Determine the normalization\u001b[39;00m\n",
      "File \u001b[0;32m~/anaconda3/lib/python3.11/site-packages/numpy/lib/function_base.py:520\u001b[0m, in \u001b[0;36maverage\u001b[0;34m(a, axis, weights, returned, keepdims)\u001b[0m\n\u001b[1;32m    517\u001b[0m     keepdims_kw \u001b[38;5;241m=\u001b[39m {\u001b[38;5;124m'\u001b[39m\u001b[38;5;124mkeepdims\u001b[39m\u001b[38;5;124m'\u001b[39m: keepdims}\n\u001b[1;32m    519\u001b[0m \u001b[38;5;28;01mif\u001b[39;00m weights \u001b[38;5;129;01mis\u001b[39;00m \u001b[38;5;28;01mNone\u001b[39;00m:\n\u001b[0;32m--> 520\u001b[0m     avg \u001b[38;5;241m=\u001b[39m a\u001b[38;5;241m.\u001b[39mmean(axis, \u001b[38;5;241m*\u001b[39m\u001b[38;5;241m*\u001b[39mkeepdims_kw)\n\u001b[1;32m    521\u001b[0m     avg_as_array \u001b[38;5;241m=\u001b[39m np\u001b[38;5;241m.\u001b[39masanyarray(avg)\n\u001b[1;32m    522\u001b[0m     scl \u001b[38;5;241m=\u001b[39m avg_as_array\u001b[38;5;241m.\u001b[39mdtype\u001b[38;5;241m.\u001b[39mtype(a\u001b[38;5;241m.\u001b[39msize\u001b[38;5;241m/\u001b[39mavg_as_array\u001b[38;5;241m.\u001b[39msize)\n",
      "File \u001b[0;32m~/anaconda3/lib/python3.11/site-packages/numpy/core/_methods.py:121\u001b[0m, in \u001b[0;36m_mean\u001b[0;34m(a, axis, dtype, out, keepdims, where)\u001b[0m\n\u001b[1;32m    119\u001b[0m \u001b[38;5;28;01mif\u001b[39;00m \u001b[38;5;28misinstance\u001b[39m(ret, mu\u001b[38;5;241m.\u001b[39mndarray):\n\u001b[1;32m    120\u001b[0m     \u001b[38;5;28;01mwith\u001b[39;00m _no_nep50_warning():\n\u001b[0;32m--> 121\u001b[0m         ret \u001b[38;5;241m=\u001b[39m um\u001b[38;5;241m.\u001b[39mtrue_divide(\n\u001b[1;32m    122\u001b[0m                 ret, rcount, out\u001b[38;5;241m=\u001b[39mret, casting\u001b[38;5;241m=\u001b[39m\u001b[38;5;124m'\u001b[39m\u001b[38;5;124munsafe\u001b[39m\u001b[38;5;124m'\u001b[39m, subok\u001b[38;5;241m=\u001b[39m\u001b[38;5;28;01mFalse\u001b[39;00m)\n\u001b[1;32m    123\u001b[0m     \u001b[38;5;28;01mif\u001b[39;00m is_float16_result \u001b[38;5;129;01mand\u001b[39;00m out \u001b[38;5;129;01mis\u001b[39;00m \u001b[38;5;28;01mNone\u001b[39;00m:\n\u001b[1;32m    124\u001b[0m         ret \u001b[38;5;241m=\u001b[39m arr\u001b[38;5;241m.\u001b[39mdtype\u001b[38;5;241m.\u001b[39mtype(ret)\n",
      "\u001b[0;31mTypeError\u001b[0m: unsupported operand type(s) for /: 'str' and 'int'"
     ]
    }
   ],
   "source": [
    "np.corrcoef(data['no_of_adults'], data['booking_status'])"
   ]
  },
  {
   "cell_type": "code",
   "execution_count": null,
   "id": "a27117d3-8bdb-40e3-a10f-dc76746ed146",
   "metadata": {},
   "outputs": [],
   "source": [
    "# List correlations between features target\n",
    "target = data['booking_status']\n",
    "features = data[['type_of_meal_plan', 'required_car_parking_space', 'room_type_reserved', 'arrival_year', \n",
    "                 'arrival_month', 'arrival_date', 'market_segment_type', 'repeated_guest', 'no_of_adults', \n",
    "                 'no_of_children', 'no_of_weekend_nights', 'no_of_week_nights', 'lead_time', \n",
    "                 'no_of_previous_cancellations', 'no_of_previous_bookings_not_canceled', 'avg_price_per_room', \n",
    "                 'no_of_special_requests']]\n",
    "\n",
    "for feature in features:\n",
    "    print(feature, np.corrcoef(data[feature], target))"
   ]
  },
  {
   "cell_type": "markdown",
   "id": "7d602fba-0aad-4df1-a4e8-2a4c77579c00",
   "metadata": {},
   "source": [
    "## Modeling"
   ]
  },
  {
   "cell_type": "markdown",
   "id": "c74af700-9a5a-414c-8218-9d769281f6b0",
   "metadata": {},
   "source": []
  },
  {
   "cell_type": "markdown",
   "id": "ebe2e1b8-c85f-45a1-b4af-d43f3c513693",
   "metadata": {},
   "source": [
    "### Baseline Understanding"
   ]
  },
  {
   "cell_type": "markdown",
   "id": "a9714001-4601-4a3b-a707-892791521b2f",
   "metadata": {},
   "source": []
  },
  {
   "cell_type": "markdown",
   "id": "03502049-73d1-458f-b964-c4445e587096",
   "metadata": {},
   "source": [
    "### First Model"
   ]
  },
  {
   "cell_type": "markdown",
   "id": "7b50d370-0aa6-4aa4-b3d0-b4b60138c09b",
   "metadata": {},
   "source": []
  },
  {
   "cell_type": "markdown",
   "id": "547d46f2-09fc-4c56-8f14-92ef41ea0b58",
   "metadata": {},
   "source": [
    "### Modeling Iterations"
   ]
  },
  {
   "cell_type": "markdown",
   "id": "5514db3a-2fb9-46bf-a77f-4d226c333d2c",
   "metadata": {},
   "source": []
  },
  {
   "cell_type": "markdown",
   "id": "123f731e-e792-438b-8c9d-60f7dfbe3823",
   "metadata": {},
   "source": [
    "### Final Model"
   ]
  },
  {
   "cell_type": "markdown",
   "id": "20d015c5-3d51-4763-8e27-9e92f5acbfa0",
   "metadata": {},
   "source": []
  },
  {
   "cell_type": "markdown",
   "id": "8837f64b-3ae3-4509-bc79-3dcdb6909128",
   "metadata": {},
   "source": [
    "## Conclusions"
   ]
  },
  {
   "cell_type": "markdown",
   "id": "072b0918-a7ca-46cb-9357-43dbea741de0",
   "metadata": {},
   "source": []
  }
 ],
 "metadata": {
  "kernelspec": {
   "display_name": "Python 3 (ipykernel)",
   "language": "python",
   "name": "python3"
  },
  "language_info": {
   "codemirror_mode": {
    "name": "ipython",
    "version": 3
   },
   "file_extension": ".py",
   "mimetype": "text/x-python",
   "name": "python",
   "nbconvert_exporter": "python",
   "pygments_lexer": "ipython3",
   "version": "3.11.5"
  }
 },
 "nbformat": 4,
 "nbformat_minor": 5
}
