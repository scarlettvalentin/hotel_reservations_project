{
 "cells": [
  {
   "cell_type": "markdown",
   "id": "c65815ff-8cf2-460e-8ef2-48542955aa4b",
   "metadata": {},
   "source": [
    "# Hotel Reservations"
   ]
  },
  {
   "cell_type": "markdown",
   "id": "4632888a-7514-439f-963b-e6cb90bc4224",
   "metadata": {},
   "source": [
    "## Overview"
   ]
  },
  {
   "cell_type": "markdown",
   "id": "816448de-6a33-4aed-82e9-2488fc15a483",
   "metadata": {},
   "source": []
  },
  {
   "cell_type": "markdown",
   "id": "98f17fbf-73cd-401b-a901-86a7c3128904",
   "metadata": {},
   "source": [
    "## Business Understanding"
   ]
  },
  {
   "cell_type": "markdown",
   "id": "cd188f48-3942-4b69-b8cd-344d2fd0ab1e",
   "metadata": {},
   "source": [
    "With the ease of booking and canceling hotel reservations online, hotel cancelations and no-shows have drastically increased. This poses a significant problem for hotel revenue. Hotels are losing out on money when there are vacant rooms due to last minute cancellations. To combat this issue, I am going to create a model that can predict when a customer is going to cancel their reservation. This will allow the hotel to overbook an appropriate number of rooms so that they are not losing out on money due to vacant rooms while also not booking more rooms than there is space for in the hotel.\n",
    "\n",
    "The stakeholders for this project are the hotel employees in charge of hotel bookings and operations, including the Reservations Manager, VP of Operations and, and VP of Revenue Management.\n",
    "\n",
    "This business problem is important to the stakeholders because it is crucial to increase revenue coming from hotel room bookings. Additionally, they need to accurately manage vacancies for guests, which also impact the price of the rooms.\n",
    "\n",
    "In order to solve this business problem, I will investigate the following 3 questions:\n",
    "1. What factors contribute to **hotel cancellations**?\n",
    "2. What factors contribute to **maintaining a hotel reservation**?\n",
    "3. How can hotels strategically price rooms to **increase revenue**?"
   ]
  },
  {
   "cell_type": "markdown",
   "id": "52b663e7-e91d-429a-820e-27b518f304cc",
   "metadata": {},
   "source": [
    "## Data Understanding"
   ]
  },
  {
   "cell_type": "markdown",
   "id": "4436f4ff-895d-4a72-8380-e9da27f1a64e",
   "metadata": {},
   "source": [
    "The [Hotel Reservations Dataset](https://www.kaggle.com/datasets/ahsan81/hotel-reservations-classification-dataset) extracted from Kaggle contains 36,275 entries of unique bookings ranging from 2017 to 2018. \n",
    "\n",
    "There are 19 columns, which are provided in the following data dictionary:\n",
    "\n",
    "**Data Dictionary**\n",
    "\n",
    "**Booking_ID**: unique identifier of each booking <br>\n",
    "**no_of_adults**: Number of adults <br>\n",
    "**no_of_children**: Number of Children <br>\n",
    "**no_of_weekend_nights**: Number of weekend nights (Saturday or Sunday) the guest stayed or booked to stay at the hotel <br>\n",
    "**no_of_week_nights**: Number of week nights (Monday to Friday) the guest stayed or booked to stay at the hotel <br>\n",
    "**type_of_meal_plan**: Type of meal plan booked by the customer <br>\n",
    "**required_car_parking_space**: Does the customer require a car parking space? (0 - No, 1- Yes)<br>\n",
    "**room_type_reserved**: Type of room reserved by the customer. The values are ciphered (encoded) by INN Hotels. <br>\n",
    "**lead_time**: Number of days between the date of booking and the arrival date <br>\n",
    "**arrival_year**: Year of arrival date <br>\n",
    "**arrival_month**: Month of arrival date <br>\n",
    "**arrival_date**: Date of the month <br>\n",
    "**market_segment_type**: Market segment designation <br>\n",
    "**repeated_guest**: Is the customer a repeated guest? (0 - No, 1- Yes) <br>\n",
    "**no_of_previous_cancellations**: Number of previous bookings that were canceled by the customer prior to the current booking <br>\n",
    "**no_of_previous_bookings_not_canceled**: Number of previous bookings not canceled by the customer prior to the current booking <br>\n",
    "**avg_price_per_room**: Average price per day of the reservation; prices of the rooms are dynamic. (in euros) <br>\n",
    "**no_of_special_requests**: Total number of special requests made by the customer (e.g. high floor, view from the room, etc) <br>\n",
    "**booking_status**: Flag indicating if the booking was canceled or not <br>\n",
    "\n",
    "The target variable will be `booking_status`."
   ]
  },
  {
   "cell_type": "markdown",
   "id": "d2654f48-ed25-47de-a6b4-630d33c77eb2",
   "metadata": {},
   "source": [
    "First, I must import necessary libraries that I will use for the EDA and data preparation."
   ]
  },
  {
   "cell_type": "code",
   "execution_count": 1,
   "id": "f0cf9924-9c65-4441-a2fc-ddff0cc2373f",
   "metadata": {},
   "outputs": [],
   "source": [
    "# Import necessary libraries\n",
    "import pandas as pd\n",
    "import numpy as np\n",
    "import matplotlib.pyplot as plt\n",
    "from sklearn.model_selection import train_test_split\n",
    "from sklearn.preprocessing import OneHotEncoder, StandardScaler\n",
    "from sklearn.tree import DecisionTreeClassifier\n",
    "from sklearn.metrics import accuracy_score, roc_curve, auc, precision_score, confusion_matrix, ConfusionMatrixDisplay\n",
    "\n",
    "%matplotlib inline\n",
    "\n",
    "pd.options.mode.copy_on_write = True\n",
    "\n",
    "# Suppress harmless warning for use_inf_as_na\n",
    "import warnings\n",
    "warnings.simplefilter(action=\"ignore\", category=FutureWarning)"
   ]
  },
  {
   "cell_type": "markdown",
   "id": "c8629558-ed29-4627-913a-d53fe6c4b73e",
   "metadata": {},
   "source": [
    "Next I will load the dataset into the notebook."
   ]
  },
  {
   "cell_type": "code",
   "execution_count": 2,
   "id": "63a07d40-395e-43a7-a87e-49e18789883d",
   "metadata": {},
   "outputs": [],
   "source": [
    "data = pd.read_csv('data/hotel_reservations.csv')"
   ]
  },
  {
   "cell_type": "markdown",
   "id": "d5722a4a-e3bf-40e9-bba2-1d18e0aa8856",
   "metadata": {},
   "source": [
    "## Data Preparation"
   ]
  },
  {
   "cell_type": "markdown",
   "id": "8f452229-2523-495f-9608-a552d33afe5d",
   "metadata": {},
   "source": [
    "### Data Cleaning"
   ]
  },
  {
   "cell_type": "code",
   "execution_count": 3,
   "id": "874d1b0c-962f-4462-b9a2-35046ada7d7b",
   "metadata": {},
   "outputs": [
    {
     "data": {
      "text/html": [
       "<div>\n",
       "<style scoped>\n",
       "    .dataframe tbody tr th:only-of-type {\n",
       "        vertical-align: middle;\n",
       "    }\n",
       "\n",
       "    .dataframe tbody tr th {\n",
       "        vertical-align: top;\n",
       "    }\n",
       "\n",
       "    .dataframe thead th {\n",
       "        text-align: right;\n",
       "    }\n",
       "</style>\n",
       "<table border=\"1\" class=\"dataframe\">\n",
       "  <thead>\n",
       "    <tr style=\"text-align: right;\">\n",
       "      <th></th>\n",
       "      <th>Booking_ID</th>\n",
       "      <th>no_of_adults</th>\n",
       "      <th>no_of_children</th>\n",
       "      <th>no_of_weekend_nights</th>\n",
       "      <th>no_of_week_nights</th>\n",
       "      <th>type_of_meal_plan</th>\n",
       "      <th>required_car_parking_space</th>\n",
       "      <th>room_type_reserved</th>\n",
       "      <th>lead_time</th>\n",
       "      <th>arrival_year</th>\n",
       "      <th>arrival_month</th>\n",
       "      <th>arrival_date</th>\n",
       "      <th>market_segment_type</th>\n",
       "      <th>repeated_guest</th>\n",
       "      <th>no_of_previous_cancellations</th>\n",
       "      <th>no_of_previous_bookings_not_canceled</th>\n",
       "      <th>avg_price_per_room</th>\n",
       "      <th>no_of_special_requests</th>\n",
       "      <th>booking_status</th>\n",
       "    </tr>\n",
       "  </thead>\n",
       "  <tbody>\n",
       "    <tr>\n",
       "      <th>0</th>\n",
       "      <td>INN00001</td>\n",
       "      <td>2</td>\n",
       "      <td>0</td>\n",
       "      <td>1</td>\n",
       "      <td>2</td>\n",
       "      <td>Meal Plan 1</td>\n",
       "      <td>0</td>\n",
       "      <td>Room_Type 1</td>\n",
       "      <td>224</td>\n",
       "      <td>2017</td>\n",
       "      <td>10</td>\n",
       "      <td>2</td>\n",
       "      <td>Offline</td>\n",
       "      <td>0</td>\n",
       "      <td>0</td>\n",
       "      <td>0</td>\n",
       "      <td>65.00</td>\n",
       "      <td>0</td>\n",
       "      <td>Not_Canceled</td>\n",
       "    </tr>\n",
       "    <tr>\n",
       "      <th>1</th>\n",
       "      <td>INN00002</td>\n",
       "      <td>2</td>\n",
       "      <td>0</td>\n",
       "      <td>2</td>\n",
       "      <td>3</td>\n",
       "      <td>Not Selected</td>\n",
       "      <td>0</td>\n",
       "      <td>Room_Type 1</td>\n",
       "      <td>5</td>\n",
       "      <td>2018</td>\n",
       "      <td>11</td>\n",
       "      <td>6</td>\n",
       "      <td>Online</td>\n",
       "      <td>0</td>\n",
       "      <td>0</td>\n",
       "      <td>0</td>\n",
       "      <td>106.68</td>\n",
       "      <td>1</td>\n",
       "      <td>Not_Canceled</td>\n",
       "    </tr>\n",
       "    <tr>\n",
       "      <th>2</th>\n",
       "      <td>INN00003</td>\n",
       "      <td>1</td>\n",
       "      <td>0</td>\n",
       "      <td>2</td>\n",
       "      <td>1</td>\n",
       "      <td>Meal Plan 1</td>\n",
       "      <td>0</td>\n",
       "      <td>Room_Type 1</td>\n",
       "      <td>1</td>\n",
       "      <td>2018</td>\n",
       "      <td>2</td>\n",
       "      <td>28</td>\n",
       "      <td>Online</td>\n",
       "      <td>0</td>\n",
       "      <td>0</td>\n",
       "      <td>0</td>\n",
       "      <td>60.00</td>\n",
       "      <td>0</td>\n",
       "      <td>Canceled</td>\n",
       "    </tr>\n",
       "    <tr>\n",
       "      <th>3</th>\n",
       "      <td>INN00004</td>\n",
       "      <td>2</td>\n",
       "      <td>0</td>\n",
       "      <td>0</td>\n",
       "      <td>2</td>\n",
       "      <td>Meal Plan 1</td>\n",
       "      <td>0</td>\n",
       "      <td>Room_Type 1</td>\n",
       "      <td>211</td>\n",
       "      <td>2018</td>\n",
       "      <td>5</td>\n",
       "      <td>20</td>\n",
       "      <td>Online</td>\n",
       "      <td>0</td>\n",
       "      <td>0</td>\n",
       "      <td>0</td>\n",
       "      <td>100.00</td>\n",
       "      <td>0</td>\n",
       "      <td>Canceled</td>\n",
       "    </tr>\n",
       "    <tr>\n",
       "      <th>4</th>\n",
       "      <td>INN00005</td>\n",
       "      <td>2</td>\n",
       "      <td>0</td>\n",
       "      <td>1</td>\n",
       "      <td>1</td>\n",
       "      <td>Not Selected</td>\n",
       "      <td>0</td>\n",
       "      <td>Room_Type 1</td>\n",
       "      <td>48</td>\n",
       "      <td>2018</td>\n",
       "      <td>4</td>\n",
       "      <td>11</td>\n",
       "      <td>Online</td>\n",
       "      <td>0</td>\n",
       "      <td>0</td>\n",
       "      <td>0</td>\n",
       "      <td>94.50</td>\n",
       "      <td>0</td>\n",
       "      <td>Canceled</td>\n",
       "    </tr>\n",
       "  </tbody>\n",
       "</table>\n",
       "</div>"
      ],
      "text/plain": [
       "  Booking_ID  no_of_adults  no_of_children  no_of_weekend_nights  \\\n",
       "0   INN00001             2               0                     1   \n",
       "1   INN00002             2               0                     2   \n",
       "2   INN00003             1               0                     2   \n",
       "3   INN00004             2               0                     0   \n",
       "4   INN00005             2               0                     1   \n",
       "\n",
       "   no_of_week_nights type_of_meal_plan  required_car_parking_space  \\\n",
       "0                  2       Meal Plan 1                           0   \n",
       "1                  3      Not Selected                           0   \n",
       "2                  1       Meal Plan 1                           0   \n",
       "3                  2       Meal Plan 1                           0   \n",
       "4                  1      Not Selected                           0   \n",
       "\n",
       "  room_type_reserved  lead_time  arrival_year  arrival_month  arrival_date  \\\n",
       "0        Room_Type 1        224          2017             10             2   \n",
       "1        Room_Type 1          5          2018             11             6   \n",
       "2        Room_Type 1          1          2018              2            28   \n",
       "3        Room_Type 1        211          2018              5            20   \n",
       "4        Room_Type 1         48          2018              4            11   \n",
       "\n",
       "  market_segment_type  repeated_guest  no_of_previous_cancellations  \\\n",
       "0             Offline               0                             0   \n",
       "1              Online               0                             0   \n",
       "2              Online               0                             0   \n",
       "3              Online               0                             0   \n",
       "4              Online               0                             0   \n",
       "\n",
       "   no_of_previous_bookings_not_canceled  avg_price_per_room  \\\n",
       "0                                     0               65.00   \n",
       "1                                     0              106.68   \n",
       "2                                     0               60.00   \n",
       "3                                     0              100.00   \n",
       "4                                     0               94.50   \n",
       "\n",
       "   no_of_special_requests booking_status  \n",
       "0                       0   Not_Canceled  \n",
       "1                       1   Not_Canceled  \n",
       "2                       0       Canceled  \n",
       "3                       0       Canceled  \n",
       "4                       0       Canceled  "
      ]
     },
     "execution_count": 3,
     "metadata": {},
     "output_type": "execute_result"
    }
   ],
   "source": [
    "# Preview the first 5 rows of the train data\n",
    "data.head()"
   ]
  },
  {
   "cell_type": "code",
   "execution_count": 4,
   "id": "5c487bba-a09a-4a63-addc-cb602bf98ac5",
   "metadata": {},
   "outputs": [
    {
     "name": "stdout",
     "output_type": "stream",
     "text": [
      "<class 'pandas.core.frame.DataFrame'>\n",
      "RangeIndex: 36275 entries, 0 to 36274\n",
      "Data columns (total 19 columns):\n",
      " #   Column                                Non-Null Count  Dtype  \n",
      "---  ------                                --------------  -----  \n",
      " 0   Booking_ID                            36275 non-null  object \n",
      " 1   no_of_adults                          36275 non-null  int64  \n",
      " 2   no_of_children                        36275 non-null  int64  \n",
      " 3   no_of_weekend_nights                  36275 non-null  int64  \n",
      " 4   no_of_week_nights                     36275 non-null  int64  \n",
      " 5   type_of_meal_plan                     36275 non-null  object \n",
      " 6   required_car_parking_space            36275 non-null  int64  \n",
      " 7   room_type_reserved                    36275 non-null  object \n",
      " 8   lead_time                             36275 non-null  int64  \n",
      " 9   arrival_year                          36275 non-null  int64  \n",
      " 10  arrival_month                         36275 non-null  int64  \n",
      " 11  arrival_date                          36275 non-null  int64  \n",
      " 12  market_segment_type                   36275 non-null  object \n",
      " 13  repeated_guest                        36275 non-null  int64  \n",
      " 14  no_of_previous_cancellations          36275 non-null  int64  \n",
      " 15  no_of_previous_bookings_not_canceled  36275 non-null  int64  \n",
      " 16  avg_price_per_room                    36275 non-null  float64\n",
      " 17  no_of_special_requests                36275 non-null  int64  \n",
      " 18  booking_status                        36275 non-null  object \n",
      "dtypes: float64(1), int64(13), object(5)\n",
      "memory usage: 5.3+ MB\n"
     ]
    }
   ],
   "source": [
    "# View the overall shape, dtypes and null counts for each column in train data\n",
    "data.info()"
   ]
  },
  {
   "cell_type": "code",
   "execution_count": 5,
   "id": "770f7015-b794-46d9-9cfb-598e5cf67038",
   "metadata": {},
   "outputs": [
    {
     "data": {
      "text/plain": [
       "False    36275\n",
       "Name: count, dtype: int64"
      ]
     },
     "execution_count": 5,
     "metadata": {},
     "output_type": "execute_result"
    }
   ],
   "source": [
    "# Check if there are any duplicates in the train data\n",
    "data.duplicated(subset='Booking_ID').value_counts()"
   ]
  },
  {
   "cell_type": "markdown",
   "id": "b6c249b4-27a7-457e-806f-ffca3d7d7c9a",
   "metadata": {},
   "source": [
    "There are no null values in the dataset. `repeated_guest` is of type integer but seems to be categorical, with 0 corresponsing to not a repeated guest and 1 corresponding to a repeated guest. \n",
    "\n",
    "In fact, our **categorical variables** are as follows: `type_of_meal_plan`, `required_car_parking_space`, `room_type_reserved`, `market_segment_type`, and `repeated_guest`. \n",
    "\n",
    "Our **quantitative variables** are `no_of_adults`, `no_of_children`, `no_of_weekend_nights`, `no_of_week_nights`, `lead_time`, `arrival_year`, `arrival_month`, `arrival_date`, `no_of_previous_cancellations`, `no_of_previous_bookings_not_canceled`, `avg_price_per_room`, and `no_of_special_requests`.\n",
    "\n",
    "I will investigate the relationship between these features and the target, `booking_status`, to build a model that will predict whether a customer will cancel their reservation or not.\n",
    "\n",
    "I am not using `Booking_ID` as a variable, as its purpose is just to confirm that each entry is a unique booking."
   ]
  },
  {
   "cell_type": "code",
   "execution_count": 6,
   "id": "6121273f-4e5a-4f62-887f-09e4f4739f05",
   "metadata": {},
   "outputs": [
    {
     "data": {
      "text/html": [
       "<div>\n",
       "<style scoped>\n",
       "    .dataframe tbody tr th:only-of-type {\n",
       "        vertical-align: middle;\n",
       "    }\n",
       "\n",
       "    .dataframe tbody tr th {\n",
       "        vertical-align: top;\n",
       "    }\n",
       "\n",
       "    .dataframe thead th {\n",
       "        text-align: right;\n",
       "    }\n",
       "</style>\n",
       "<table border=\"1\" class=\"dataframe\">\n",
       "  <thead>\n",
       "    <tr style=\"text-align: right;\">\n",
       "      <th></th>\n",
       "      <th>no_of_adults</th>\n",
       "      <th>no_of_children</th>\n",
       "      <th>no_of_weekend_nights</th>\n",
       "      <th>no_of_week_nights</th>\n",
       "      <th>required_car_parking_space</th>\n",
       "      <th>lead_time</th>\n",
       "      <th>arrival_year</th>\n",
       "      <th>arrival_month</th>\n",
       "      <th>arrival_date</th>\n",
       "      <th>repeated_guest</th>\n",
       "      <th>no_of_previous_cancellations</th>\n",
       "      <th>no_of_previous_bookings_not_canceled</th>\n",
       "      <th>avg_price_per_room</th>\n",
       "      <th>no_of_special_requests</th>\n",
       "    </tr>\n",
       "  </thead>\n",
       "  <tbody>\n",
       "    <tr>\n",
       "      <th>count</th>\n",
       "      <td>36275.000000</td>\n",
       "      <td>36275.000000</td>\n",
       "      <td>36275.000000</td>\n",
       "      <td>36275.000000</td>\n",
       "      <td>36275.000000</td>\n",
       "      <td>36275.000000</td>\n",
       "      <td>36275.000000</td>\n",
       "      <td>36275.000000</td>\n",
       "      <td>36275.000000</td>\n",
       "      <td>36275.000000</td>\n",
       "      <td>36275.000000</td>\n",
       "      <td>36275.000000</td>\n",
       "      <td>36275.000000</td>\n",
       "      <td>36275.000000</td>\n",
       "    </tr>\n",
       "    <tr>\n",
       "      <th>mean</th>\n",
       "      <td>1.844962</td>\n",
       "      <td>0.105279</td>\n",
       "      <td>0.810724</td>\n",
       "      <td>2.204300</td>\n",
       "      <td>0.030986</td>\n",
       "      <td>85.232557</td>\n",
       "      <td>2017.820427</td>\n",
       "      <td>7.423653</td>\n",
       "      <td>15.596995</td>\n",
       "      <td>0.025637</td>\n",
       "      <td>0.023349</td>\n",
       "      <td>0.153411</td>\n",
       "      <td>103.423539</td>\n",
       "      <td>0.619655</td>\n",
       "    </tr>\n",
       "    <tr>\n",
       "      <th>std</th>\n",
       "      <td>0.518715</td>\n",
       "      <td>0.402648</td>\n",
       "      <td>0.870644</td>\n",
       "      <td>1.410905</td>\n",
       "      <td>0.173281</td>\n",
       "      <td>85.930817</td>\n",
       "      <td>0.383836</td>\n",
       "      <td>3.069894</td>\n",
       "      <td>8.740447</td>\n",
       "      <td>0.158053</td>\n",
       "      <td>0.368331</td>\n",
       "      <td>1.754171</td>\n",
       "      <td>35.089424</td>\n",
       "      <td>0.786236</td>\n",
       "    </tr>\n",
       "    <tr>\n",
       "      <th>min</th>\n",
       "      <td>0.000000</td>\n",
       "      <td>0.000000</td>\n",
       "      <td>0.000000</td>\n",
       "      <td>0.000000</td>\n",
       "      <td>0.000000</td>\n",
       "      <td>0.000000</td>\n",
       "      <td>2017.000000</td>\n",
       "      <td>1.000000</td>\n",
       "      <td>1.000000</td>\n",
       "      <td>0.000000</td>\n",
       "      <td>0.000000</td>\n",
       "      <td>0.000000</td>\n",
       "      <td>0.000000</td>\n",
       "      <td>0.000000</td>\n",
       "    </tr>\n",
       "    <tr>\n",
       "      <th>25%</th>\n",
       "      <td>2.000000</td>\n",
       "      <td>0.000000</td>\n",
       "      <td>0.000000</td>\n",
       "      <td>1.000000</td>\n",
       "      <td>0.000000</td>\n",
       "      <td>17.000000</td>\n",
       "      <td>2018.000000</td>\n",
       "      <td>5.000000</td>\n",
       "      <td>8.000000</td>\n",
       "      <td>0.000000</td>\n",
       "      <td>0.000000</td>\n",
       "      <td>0.000000</td>\n",
       "      <td>80.300000</td>\n",
       "      <td>0.000000</td>\n",
       "    </tr>\n",
       "    <tr>\n",
       "      <th>50%</th>\n",
       "      <td>2.000000</td>\n",
       "      <td>0.000000</td>\n",
       "      <td>1.000000</td>\n",
       "      <td>2.000000</td>\n",
       "      <td>0.000000</td>\n",
       "      <td>57.000000</td>\n",
       "      <td>2018.000000</td>\n",
       "      <td>8.000000</td>\n",
       "      <td>16.000000</td>\n",
       "      <td>0.000000</td>\n",
       "      <td>0.000000</td>\n",
       "      <td>0.000000</td>\n",
       "      <td>99.450000</td>\n",
       "      <td>0.000000</td>\n",
       "    </tr>\n",
       "    <tr>\n",
       "      <th>75%</th>\n",
       "      <td>2.000000</td>\n",
       "      <td>0.000000</td>\n",
       "      <td>2.000000</td>\n",
       "      <td>3.000000</td>\n",
       "      <td>0.000000</td>\n",
       "      <td>126.000000</td>\n",
       "      <td>2018.000000</td>\n",
       "      <td>10.000000</td>\n",
       "      <td>23.000000</td>\n",
       "      <td>0.000000</td>\n",
       "      <td>0.000000</td>\n",
       "      <td>0.000000</td>\n",
       "      <td>120.000000</td>\n",
       "      <td>1.000000</td>\n",
       "    </tr>\n",
       "    <tr>\n",
       "      <th>max</th>\n",
       "      <td>4.000000</td>\n",
       "      <td>10.000000</td>\n",
       "      <td>7.000000</td>\n",
       "      <td>17.000000</td>\n",
       "      <td>1.000000</td>\n",
       "      <td>443.000000</td>\n",
       "      <td>2018.000000</td>\n",
       "      <td>12.000000</td>\n",
       "      <td>31.000000</td>\n",
       "      <td>1.000000</td>\n",
       "      <td>13.000000</td>\n",
       "      <td>58.000000</td>\n",
       "      <td>540.000000</td>\n",
       "      <td>5.000000</td>\n",
       "    </tr>\n",
       "  </tbody>\n",
       "</table>\n",
       "</div>"
      ],
      "text/plain": [
       "       no_of_adults  no_of_children  no_of_weekend_nights  no_of_week_nights  \\\n",
       "count  36275.000000    36275.000000          36275.000000       36275.000000   \n",
       "mean       1.844962        0.105279              0.810724           2.204300   \n",
       "std        0.518715        0.402648              0.870644           1.410905   \n",
       "min        0.000000        0.000000              0.000000           0.000000   \n",
       "25%        2.000000        0.000000              0.000000           1.000000   \n",
       "50%        2.000000        0.000000              1.000000           2.000000   \n",
       "75%        2.000000        0.000000              2.000000           3.000000   \n",
       "max        4.000000       10.000000              7.000000          17.000000   \n",
       "\n",
       "       required_car_parking_space     lead_time  arrival_year  arrival_month  \\\n",
       "count                36275.000000  36275.000000  36275.000000   36275.000000   \n",
       "mean                     0.030986     85.232557   2017.820427       7.423653   \n",
       "std                      0.173281     85.930817      0.383836       3.069894   \n",
       "min                      0.000000      0.000000   2017.000000       1.000000   \n",
       "25%                      0.000000     17.000000   2018.000000       5.000000   \n",
       "50%                      0.000000     57.000000   2018.000000       8.000000   \n",
       "75%                      0.000000    126.000000   2018.000000      10.000000   \n",
       "max                      1.000000    443.000000   2018.000000      12.000000   \n",
       "\n",
       "       arrival_date  repeated_guest  no_of_previous_cancellations  \\\n",
       "count  36275.000000    36275.000000                  36275.000000   \n",
       "mean      15.596995        0.025637                      0.023349   \n",
       "std        8.740447        0.158053                      0.368331   \n",
       "min        1.000000        0.000000                      0.000000   \n",
       "25%        8.000000        0.000000                      0.000000   \n",
       "50%       16.000000        0.000000                      0.000000   \n",
       "75%       23.000000        0.000000                      0.000000   \n",
       "max       31.000000        1.000000                     13.000000   \n",
       "\n",
       "       no_of_previous_bookings_not_canceled  avg_price_per_room  \\\n",
       "count                          36275.000000        36275.000000   \n",
       "mean                               0.153411          103.423539   \n",
       "std                                1.754171           35.089424   \n",
       "min                                0.000000            0.000000   \n",
       "25%                                0.000000           80.300000   \n",
       "50%                                0.000000           99.450000   \n",
       "75%                                0.000000          120.000000   \n",
       "max                               58.000000          540.000000   \n",
       "\n",
       "       no_of_special_requests  \n",
       "count            36275.000000  \n",
       "mean                 0.619655  \n",
       "std                  0.786236  \n",
       "min                  0.000000  \n",
       "25%                  0.000000  \n",
       "50%                  0.000000  \n",
       "75%                  1.000000  \n",
       "max                  5.000000  "
      ]
     },
     "execution_count": 6,
     "metadata": {},
     "output_type": "execute_result"
    }
   ],
   "source": [
    "# Generate descriptive statistics of numerical variables in the data\n",
    "data.describe()"
   ]
  },
  {
   "cell_type": "markdown",
   "id": "d6486d3c-dfdb-4959-a07d-fa4b78bd8041",
   "metadata": {},
   "source": [
    "I will convert the values in `booking_status` to 1 for 'Canceled' and 0 for 'Not_Canceled.'"
   ]
  },
  {
   "cell_type": "code",
   "execution_count": 7,
   "id": "51037622-105d-41eb-a0ce-b56bd6902207",
   "metadata": {},
   "outputs": [
    {
     "data": {
      "text/plain": [
       "booking_status\n",
       "0    24390\n",
       "1    11885\n",
       "Name: count, dtype: int64"
      ]
     },
     "execution_count": 7,
     "metadata": {},
     "output_type": "execute_result"
    }
   ],
   "source": [
    "# Convert values in the target column to 0's and 1's\n",
    "data['booking_status'] = data['booking_status'].map({'Canceled': 1,\n",
    "                                                       'Not_Canceled': 0})\n",
    "\n",
    "# Confirm it has been done correctly\n",
    "data['booking_status'].value_counts()"
   ]
  },
  {
   "cell_type": "markdown",
   "id": "d7513f38-f430-47cf-a80c-6951833030ad",
   "metadata": {},
   "source": [
    "I will now convert the rest of the variables with string variables to numerical variables. This will prepare my data for One Hot Encoding."
   ]
  },
  {
   "cell_type": "code",
   "execution_count": 8,
   "id": "f40cb4fd-8ab2-41d6-978b-794bd56cd36d",
   "metadata": {},
   "outputs": [
    {
     "name": "stdout",
     "output_type": "stream",
     "text": [
      "type_of_meal_plan\n",
      "Meal Plan 1     27835\n",
      "Not Selected     5130\n",
      "Meal Plan 2      3305\n",
      "Meal Plan 3         5\n",
      "Name: count, dtype: int64\n",
      "\n",
      "\n",
      "room_type_reserved\n",
      "Room_Type 1    28130\n",
      "Room_Type 4     6057\n",
      "Room_Type 6      966\n",
      "Room_Type 2      692\n",
      "Room_Type 5      265\n",
      "Room_Type 7      158\n",
      "Room_Type 3        7\n",
      "Name: count, dtype: int64\n",
      "\n",
      "\n",
      "market_segment_type\n",
      "Online           23214\n",
      "Offline          10528\n",
      "Corporate         2017\n",
      "Complementary      391\n",
      "Aviation           125\n",
      "Name: count, dtype: int64\n"
     ]
    }
   ],
   "source": [
    "# Check how many value types are in each variable with string values\n",
    "print(data['type_of_meal_plan'].value_counts())\n",
    "print('\\n')\n",
    "\n",
    "print(data['room_type_reserved'].value_counts())\n",
    "print('\\n')\n",
    "\n",
    "print(data['market_segment_type'].value_counts())"
   ]
  },
  {
   "cell_type": "code",
   "execution_count": 9,
   "id": "67a6c53e-8af8-41e6-bd96-d2826dc33b70",
   "metadata": {},
   "outputs": [],
   "source": [
    "# Convert values in the type_of_meal_plan to numerical values\n",
    "data['type_of_meal_plan'] = data['type_of_meal_plan'].map({'Not Selected': 0,\n",
    "                                                             'Meal Plan 1': 1,\n",
    "                                                             'Meal Plan 2': 2,\n",
    "                                                             'Meal Plan 3': 3})\n",
    "\n",
    "# Convert values in the room_type_reserved to numerical values\n",
    "data['room_type_reserved'] = data['room_type_reserved'].map({'Room_Type 1': 1,\n",
    "                                                             'Room_Type 2': 2,\n",
    "                                                             'Room_Type 3': 3,\n",
    "                                                             'Room_Type 4': 4,\n",
    "                                                             'Room_Type 5': 5,\n",
    "                                                             'Room_Type 6': 6,\n",
    "                                                             'Room_Type 7': 7})\n",
    "\n",
    "\n",
    "# Convert values in the market_segment_type to numerical values\n",
    "data['market_segment_type'] = data['market_segment_type'].map({'Offline': 0,\n",
    "                                                             'Online': 1,\n",
    "                                                             'Corporate': 2,\n",
    "                                                             'Complementary': 3,\n",
    "                                                             'Aviation': 4})"
   ]
  },
  {
   "cell_type": "markdown",
   "id": "c9202aa7-e349-4372-8b35-64440800cac5",
   "metadata": {},
   "source": [
    "### Data Transformation"
   ]
  },
  {
   "cell_type": "markdown",
   "id": "02d9efe0-e64c-46da-a9ab-43011d275c56",
   "metadata": {},
   "source": [
    "Before transforming any data, I will use `train_test_split` to split my data into a train set and a test set. This is to prevent data leakage. When I test my model on the test set, I want it to mimic unknown data as best as possible. "
   ]
  },
  {
   "cell_type": "code",
   "execution_count": 10,
   "id": "9bd6aca7-1419-418f-854e-9124577bc1f5",
   "metadata": {},
   "outputs": [],
   "source": [
    "# Split dataset into features and target\n",
    "\n",
    "X = data.drop(columns=['booking_status', 'Booking_ID'], axis = 1)\n",
    "y = data['booking_status']"
   ]
  },
  {
   "cell_type": "code",
   "execution_count": 11,
   "id": "f3bf23e0-2494-4f60-bd97-d3dd270eeb7c",
   "metadata": {},
   "outputs": [],
   "source": [
    "# Split the data into a train set and a test set using default values where 75% of the data is train and the remaining\n",
    "# 25% is the test data\n",
    "# Random state used for reproducibility\n",
    "X_train, X_test, y_train, y_test = train_test_split(X, y, shuffle=True, random_state=28)"
   ]
  },
  {
   "cell_type": "markdown",
   "id": "7c41896a-4faf-41f5-8aba-75777066a17c",
   "metadata": {},
   "source": [
    "Next, I will use `OneHotEncoder` on my categorical variables with no ordinal relationship"
   ]
  },
  {
   "cell_type": "code",
   "execution_count": 12,
   "id": "97fec4a8-2c01-41be-966f-2a8a04e1c41b",
   "metadata": {},
   "outputs": [],
   "source": [
    "# Create dummy variables for categorical features\n",
    "ohe = OneHotEncoder(drop='first', sparse_output=False)\n",
    "\n",
    "# Create dataframe with only the columns that require One Hot Encoding\n",
    "categorical_train = X_train[['type_of_meal_plan', 'required_car_parking_space', 'room_type_reserved', \n",
    "                          'market_segment_type', 'repeated_guest']].copy()\n",
    "\n",
    "categorical_test = X_test[['type_of_meal_plan', 'required_car_parking_space', 'room_type_reserved', \n",
    "                          'market_segment_type', 'repeated_guest']].copy()\n",
    "\n",
    "# Fit the encoder on the training data and transform it\n",
    "ohe.fit_transform(categorical_train)\n",
    "\n",
    "# Transform the test data\n",
    "ohe.transform(categorical_test)\n",
    "\n",
    "# Create new dataframes with One Hot Encoded columns\n",
    "categorical_train_ohe = pd.DataFrame(data=ohe.transform(categorical_train),\n",
    "                                    columns=ohe.get_feature_names_out(),\n",
    "                                    index=categorical_train.index)\n",
    "\n",
    "categorical_test_ohe = pd.DataFrame(data=ohe.transform(categorical_test),\n",
    "                                   columns=ohe.get_feature_names_out(),\n",
    "                                   index=categorical_test.index)"
   ]
  },
  {
   "cell_type": "markdown",
   "id": "9a545dab-528b-4ad4-b201-7d2e2245aaa1",
   "metadata": {},
   "source": [
    "Now, I will use `StandardScaler` to standardize the quantitative features."
   ]
  },
  {
   "cell_type": "code",
   "execution_count": 13,
   "id": "70058649-5a06-4b1f-a07c-b47196ee9477",
   "metadata": {},
   "outputs": [],
   "source": [
    "# Initialize the scaler\n",
    "scaler = StandardScaler()\n",
    "\n",
    "# Create dataframe with only quantitative variables\n",
    "quant_train = X_train[['arrival_year', 'arrival_month', 'arrival_date','no_of_adults', 'no_of_children', \n",
    "                   'no_of_weekend_nights', 'no_of_week_nights', 'lead_time', 'no_of_previous_cancellations', \n",
    "                   'no_of_previous_bookings_not_canceled', 'avg_price_per_room', 'no_of_special_requests']].copy()\n",
    "\n",
    "quant_test = X_test[['arrival_year', 'arrival_month', 'arrival_date','no_of_adults', 'no_of_children', \n",
    "                   'no_of_weekend_nights', 'no_of_week_nights', 'lead_time', 'no_of_previous_cancellations', \n",
    "                   'no_of_previous_bookings_not_canceled', 'avg_price_per_room', 'no_of_special_requests']].copy()\n",
    "\n",
    "# Fit and transform the train data\n",
    "scaler.fit_transform(quant_train)\n",
    "\n",
    "# Transform the test data\n",
    "scaler.transform(quant_test)\n",
    "\n",
    "# Create new dataframes with Scaler columns\n",
    "quant_train_scaler = pd.DataFrame(data=scaler.transform(quant_train),\n",
    "                                  columns=quant_train.columns,\n",
    "                                  index=quant_train.index)\n",
    "\n",
    "quant_test_scaler = pd.DataFrame(data=scaler.transform(quant_test),\n",
    "                                  columns=quant_test.columns,\n",
    "                                  index=quant_test.index)"
   ]
  },
  {
   "cell_type": "code",
   "execution_count": 14,
   "id": "a5af3812-bf84-49a8-8779-4e0b8f332189",
   "metadata": {},
   "outputs": [
    {
     "data": {
      "text/html": [
       "<div>\n",
       "<style scoped>\n",
       "    .dataframe tbody tr th:only-of-type {\n",
       "        vertical-align: middle;\n",
       "    }\n",
       "\n",
       "    .dataframe tbody tr th {\n",
       "        vertical-align: top;\n",
       "    }\n",
       "\n",
       "    .dataframe thead th {\n",
       "        text-align: right;\n",
       "    }\n",
       "</style>\n",
       "<table border=\"1\" class=\"dataframe\">\n",
       "  <thead>\n",
       "    <tr style=\"text-align: right;\">\n",
       "      <th></th>\n",
       "      <th>arrival_year</th>\n",
       "      <th>arrival_month</th>\n",
       "      <th>arrival_date</th>\n",
       "      <th>no_of_adults</th>\n",
       "      <th>no_of_children</th>\n",
       "      <th>no_of_weekend_nights</th>\n",
       "      <th>no_of_week_nights</th>\n",
       "      <th>lead_time</th>\n",
       "      <th>no_of_previous_cancellations</th>\n",
       "      <th>no_of_previous_bookings_not_canceled</th>\n",
       "      <th>...</th>\n",
       "      <th>room_type_reserved_3</th>\n",
       "      <th>room_type_reserved_4</th>\n",
       "      <th>room_type_reserved_5</th>\n",
       "      <th>room_type_reserved_6</th>\n",
       "      <th>room_type_reserved_7</th>\n",
       "      <th>market_segment_type_1</th>\n",
       "      <th>market_segment_type_2</th>\n",
       "      <th>market_segment_type_3</th>\n",
       "      <th>market_segment_type_4</th>\n",
       "      <th>repeated_guest_1</th>\n",
       "    </tr>\n",
       "  </thead>\n",
       "  <tbody>\n",
       "    <tr>\n",
       "      <th>2947</th>\n",
       "      <td>0.46805</td>\n",
       "      <td>-0.136897</td>\n",
       "      <td>-0.642154</td>\n",
       "      <td>0.298216</td>\n",
       "      <td>2.20181</td>\n",
       "      <td>0.218603</td>\n",
       "      <td>-1.550369</td>\n",
       "      <td>-0.991105</td>\n",
       "      <td>-0.062816</td>\n",
       "      <td>-0.086268</td>\n",
       "      <td>...</td>\n",
       "      <td>0.0</td>\n",
       "      <td>0.0</td>\n",
       "      <td>0.0</td>\n",
       "      <td>0.0</td>\n",
       "      <td>0.0</td>\n",
       "      <td>1.0</td>\n",
       "      <td>0.0</td>\n",
       "      <td>0.0</td>\n",
       "      <td>0.0</td>\n",
       "      <td>0.0</td>\n",
       "    </tr>\n",
       "    <tr>\n",
       "      <th>3033</th>\n",
       "      <td>0.46805</td>\n",
       "      <td>-1.758329</td>\n",
       "      <td>1.423318</td>\n",
       "      <td>-1.635357</td>\n",
       "      <td>-0.26098</td>\n",
       "      <td>1.363639</td>\n",
       "      <td>-0.847614</td>\n",
       "      <td>-0.979430</td>\n",
       "      <td>-0.062816</td>\n",
       "      <td>-0.086268</td>\n",
       "      <td>...</td>\n",
       "      <td>0.0</td>\n",
       "      <td>0.0</td>\n",
       "      <td>0.0</td>\n",
       "      <td>0.0</td>\n",
       "      <td>0.0</td>\n",
       "      <td>1.0</td>\n",
       "      <td>0.0</td>\n",
       "      <td>0.0</td>\n",
       "      <td>0.0</td>\n",
       "      <td>0.0</td>\n",
       "    </tr>\n",
       "    <tr>\n",
       "      <th>30081</th>\n",
       "      <td>0.46805</td>\n",
       "      <td>0.835962</td>\n",
       "      <td>-1.101148</td>\n",
       "      <td>0.298216</td>\n",
       "      <td>4.66460</td>\n",
       "      <td>-0.926433</td>\n",
       "      <td>-0.847614</td>\n",
       "      <td>0.304761</td>\n",
       "      <td>-0.062816</td>\n",
       "      <td>-0.086268</td>\n",
       "      <td>...</td>\n",
       "      <td>0.0</td>\n",
       "      <td>0.0</td>\n",
       "      <td>0.0</td>\n",
       "      <td>0.0</td>\n",
       "      <td>0.0</td>\n",
       "      <td>1.0</td>\n",
       "      <td>0.0</td>\n",
       "      <td>0.0</td>\n",
       "      <td>0.0</td>\n",
       "      <td>0.0</td>\n",
       "    </tr>\n",
       "    <tr>\n",
       "      <th>21861</th>\n",
       "      <td>0.46805</td>\n",
       "      <td>-1.434042</td>\n",
       "      <td>-1.330645</td>\n",
       "      <td>0.298216</td>\n",
       "      <td>-0.26098</td>\n",
       "      <td>1.363639</td>\n",
       "      <td>-0.144860</td>\n",
       "      <td>-0.664220</td>\n",
       "      <td>-0.062816</td>\n",
       "      <td>-0.086268</td>\n",
       "      <td>...</td>\n",
       "      <td>0.0</td>\n",
       "      <td>0.0</td>\n",
       "      <td>0.0</td>\n",
       "      <td>0.0</td>\n",
       "      <td>0.0</td>\n",
       "      <td>1.0</td>\n",
       "      <td>0.0</td>\n",
       "      <td>0.0</td>\n",
       "      <td>0.0</td>\n",
       "      <td>0.0</td>\n",
       "    </tr>\n",
       "    <tr>\n",
       "      <th>11680</th>\n",
       "      <td>0.46805</td>\n",
       "      <td>0.835962</td>\n",
       "      <td>-0.986400</td>\n",
       "      <td>0.298216</td>\n",
       "      <td>-0.26098</td>\n",
       "      <td>-0.926433</td>\n",
       "      <td>-0.144860</td>\n",
       "      <td>-0.827662</td>\n",
       "      <td>-0.062816</td>\n",
       "      <td>-0.086268</td>\n",
       "      <td>...</td>\n",
       "      <td>0.0</td>\n",
       "      <td>1.0</td>\n",
       "      <td>0.0</td>\n",
       "      <td>0.0</td>\n",
       "      <td>0.0</td>\n",
       "      <td>1.0</td>\n",
       "      <td>0.0</td>\n",
       "      <td>0.0</td>\n",
       "      <td>0.0</td>\n",
       "      <td>0.0</td>\n",
       "    </tr>\n",
       "  </tbody>\n",
       "</table>\n",
       "<p>5 rows × 27 columns</p>\n",
       "</div>"
      ],
      "text/plain": [
       "       arrival_year  arrival_month  arrival_date  no_of_adults  \\\n",
       "2947        0.46805      -0.136897     -0.642154      0.298216   \n",
       "3033        0.46805      -1.758329      1.423318     -1.635357   \n",
       "30081       0.46805       0.835962     -1.101148      0.298216   \n",
       "21861       0.46805      -1.434042     -1.330645      0.298216   \n",
       "11680       0.46805       0.835962     -0.986400      0.298216   \n",
       "\n",
       "       no_of_children  no_of_weekend_nights  no_of_week_nights  lead_time  \\\n",
       "2947          2.20181              0.218603          -1.550369  -0.991105   \n",
       "3033         -0.26098              1.363639          -0.847614  -0.979430   \n",
       "30081         4.66460             -0.926433          -0.847614   0.304761   \n",
       "21861        -0.26098              1.363639          -0.144860  -0.664220   \n",
       "11680        -0.26098             -0.926433          -0.144860  -0.827662   \n",
       "\n",
       "       no_of_previous_cancellations  no_of_previous_bookings_not_canceled  \\\n",
       "2947                      -0.062816                             -0.086268   \n",
       "3033                      -0.062816                             -0.086268   \n",
       "30081                     -0.062816                             -0.086268   \n",
       "21861                     -0.062816                             -0.086268   \n",
       "11680                     -0.062816                             -0.086268   \n",
       "\n",
       "       ...  room_type_reserved_3  room_type_reserved_4  room_type_reserved_5  \\\n",
       "2947   ...                   0.0                   0.0                   0.0   \n",
       "3033   ...                   0.0                   0.0                   0.0   \n",
       "30081  ...                   0.0                   0.0                   0.0   \n",
       "21861  ...                   0.0                   0.0                   0.0   \n",
       "11680  ...                   0.0                   1.0                   0.0   \n",
       "\n",
       "       room_type_reserved_6  room_type_reserved_7  market_segment_type_1  \\\n",
       "2947                    0.0                   0.0                    1.0   \n",
       "3033                    0.0                   0.0                    1.0   \n",
       "30081                   0.0                   0.0                    1.0   \n",
       "21861                   0.0                   0.0                    1.0   \n",
       "11680                   0.0                   0.0                    1.0   \n",
       "\n",
       "       market_segment_type_2  market_segment_type_3  market_segment_type_4  \\\n",
       "2947                     0.0                    0.0                    0.0   \n",
       "3033                     0.0                    0.0                    0.0   \n",
       "30081                    0.0                    0.0                    0.0   \n",
       "21861                    0.0                    0.0                    0.0   \n",
       "11680                    0.0                    0.0                    0.0   \n",
       "\n",
       "       repeated_guest_1  \n",
       "2947                0.0  \n",
       "3033                0.0  \n",
       "30081               0.0  \n",
       "21861               0.0  \n",
       "11680               0.0  \n",
       "\n",
       "[5 rows x 27 columns]"
      ]
     },
     "execution_count": 14,
     "metadata": {},
     "output_type": "execute_result"
    }
   ],
   "source": [
    "# Append one hot encoded data back to dataframe\n",
    "X_train_transformed = pd.concat([quant_train_scaler, categorical_train_ohe], axis=1)\n",
    "\n",
    "X_test_transformed = pd.concat([quant_test_scaler, categorical_test_ohe], axis=1)\n",
    "\n",
    "# Preview new dataframe\n",
    "X_train_transformed.head()"
   ]
  },
  {
   "cell_type": "markdown",
   "id": "7d602fba-0aad-4df1-a4e8-2a4c77579c00",
   "metadata": {},
   "source": [
    "## Modeling"
   ]
  },
  {
   "cell_type": "markdown",
   "id": "c74af700-9a5a-414c-8218-9d769281f6b0",
   "metadata": {},
   "source": []
  },
  {
   "cell_type": "markdown",
   "id": "ebe2e1b8-c85f-45a1-b4af-d43f3c513693",
   "metadata": {},
   "source": [
    "### Baseline Understanding"
   ]
  },
  {
   "cell_type": "markdown",
   "id": "a9714001-4601-4a3b-a707-892791521b2f",
   "metadata": {},
   "source": []
  },
  {
   "cell_type": "code",
   "execution_count": null,
   "id": "1dfcb87c-63b2-45ec-b89d-81faaa713d1c",
   "metadata": {},
   "outputs": [],
   "source": []
  },
  {
   "cell_type": "markdown",
   "id": "03502049-73d1-458f-b964-c4445e587096",
   "metadata": {},
   "source": [
    "### First Model"
   ]
  },
  {
   "cell_type": "markdown",
   "id": "7b50d370-0aa6-4aa4-b3d0-b4b60138c09b",
   "metadata": {},
   "source": [
    "I am going to create a baseline decision tree and evaluate the performance. As expected, the baseine model overfit the data. "
   ]
  },
  {
   "cell_type": "code",
   "execution_count": 15,
   "id": "2933c6ef-2653-40a8-b91f-64f6466375b8",
   "metadata": {},
   "outputs": [
    {
     "data": {
      "text/html": [
       "<style>#sk-container-id-1 {color: black;background-color: white;}#sk-container-id-1 pre{padding: 0;}#sk-container-id-1 div.sk-toggleable {background-color: white;}#sk-container-id-1 label.sk-toggleable__label {cursor: pointer;display: block;width: 100%;margin-bottom: 0;padding: 0.3em;box-sizing: border-box;text-align: center;}#sk-container-id-1 label.sk-toggleable__label-arrow:before {content: \"▸\";float: left;margin-right: 0.25em;color: #696969;}#sk-container-id-1 label.sk-toggleable__label-arrow:hover:before {color: black;}#sk-container-id-1 div.sk-estimator:hover label.sk-toggleable__label-arrow:before {color: black;}#sk-container-id-1 div.sk-toggleable__content {max-height: 0;max-width: 0;overflow: hidden;text-align: left;background-color: #f0f8ff;}#sk-container-id-1 div.sk-toggleable__content pre {margin: 0.2em;color: black;border-radius: 0.25em;background-color: #f0f8ff;}#sk-container-id-1 input.sk-toggleable__control:checked~div.sk-toggleable__content {max-height: 200px;max-width: 100%;overflow: auto;}#sk-container-id-1 input.sk-toggleable__control:checked~label.sk-toggleable__label-arrow:before {content: \"▾\";}#sk-container-id-1 div.sk-estimator input.sk-toggleable__control:checked~label.sk-toggleable__label {background-color: #d4ebff;}#sk-container-id-1 div.sk-label input.sk-toggleable__control:checked~label.sk-toggleable__label {background-color: #d4ebff;}#sk-container-id-1 input.sk-hidden--visually {border: 0;clip: rect(1px 1px 1px 1px);clip: rect(1px, 1px, 1px, 1px);height: 1px;margin: -1px;overflow: hidden;padding: 0;position: absolute;width: 1px;}#sk-container-id-1 div.sk-estimator {font-family: monospace;background-color: #f0f8ff;border: 1px dotted black;border-radius: 0.25em;box-sizing: border-box;margin-bottom: 0.5em;}#sk-container-id-1 div.sk-estimator:hover {background-color: #d4ebff;}#sk-container-id-1 div.sk-parallel-item::after {content: \"\";width: 100%;border-bottom: 1px solid gray;flex-grow: 1;}#sk-container-id-1 div.sk-label:hover label.sk-toggleable__label {background-color: #d4ebff;}#sk-container-id-1 div.sk-serial::before {content: \"\";position: absolute;border-left: 1px solid gray;box-sizing: border-box;top: 0;bottom: 0;left: 50%;z-index: 0;}#sk-container-id-1 div.sk-serial {display: flex;flex-direction: column;align-items: center;background-color: white;padding-right: 0.2em;padding-left: 0.2em;position: relative;}#sk-container-id-1 div.sk-item {position: relative;z-index: 1;}#sk-container-id-1 div.sk-parallel {display: flex;align-items: stretch;justify-content: center;background-color: white;position: relative;}#sk-container-id-1 div.sk-item::before, #sk-container-id-1 div.sk-parallel-item::before {content: \"\";position: absolute;border-left: 1px solid gray;box-sizing: border-box;top: 0;bottom: 0;left: 50%;z-index: -1;}#sk-container-id-1 div.sk-parallel-item {display: flex;flex-direction: column;z-index: 1;position: relative;background-color: white;}#sk-container-id-1 div.sk-parallel-item:first-child::after {align-self: flex-end;width: 50%;}#sk-container-id-1 div.sk-parallel-item:last-child::after {align-self: flex-start;width: 50%;}#sk-container-id-1 div.sk-parallel-item:only-child::after {width: 0;}#sk-container-id-1 div.sk-dashed-wrapped {border: 1px dashed gray;margin: 0 0.4em 0.5em 0.4em;box-sizing: border-box;padding-bottom: 0.4em;background-color: white;}#sk-container-id-1 div.sk-label label {font-family: monospace;font-weight: bold;display: inline-block;line-height: 1.2em;}#sk-container-id-1 div.sk-label-container {text-align: center;}#sk-container-id-1 div.sk-container {/* jupyter's `normalize.less` sets `[hidden] { display: none; }` but bootstrap.min.css set `[hidden] { display: none !important; }` so we also need the `!important` here to be able to override the default hidden behavior on the sphinx rendered scikit-learn.org. See: https://github.com/scikit-learn/scikit-learn/issues/21755 */display: inline-block !important;position: relative;}#sk-container-id-1 div.sk-text-repr-fallback {display: none;}</style><div id=\"sk-container-id-1\" class=\"sk-top-container\"><div class=\"sk-text-repr-fallback\"><pre>DecisionTreeClassifier(criterion=&#x27;entropy&#x27;, random_state=28)</pre><b>In a Jupyter environment, please rerun this cell to show the HTML representation or trust the notebook. <br />On GitHub, the HTML representation is unable to render, please try loading this page with nbviewer.org.</b></div><div class=\"sk-container\" hidden><div class=\"sk-item\"><div class=\"sk-estimator sk-toggleable\"><input class=\"sk-toggleable__control sk-hidden--visually\" id=\"sk-estimator-id-1\" type=\"checkbox\" checked><label for=\"sk-estimator-id-1\" class=\"sk-toggleable__label sk-toggleable__label-arrow\">DecisionTreeClassifier</label><div class=\"sk-toggleable__content\"><pre>DecisionTreeClassifier(criterion=&#x27;entropy&#x27;, random_state=28)</pre></div></div></div></div></div>"
      ],
      "text/plain": [
       "DecisionTreeClassifier(criterion='entropy', random_state=28)"
      ]
     },
     "execution_count": 15,
     "metadata": {},
     "output_type": "execute_result"
    }
   ],
   "source": [
    "# Instantiate classifier and fit it to the training data\n",
    "classifier = DecisionTreeClassifier(criterion='entropy', random_state=28)\n",
    "\n",
    "classifier.fit(X_train_transformed, y_train)"
   ]
  },
  {
   "cell_type": "code",
   "execution_count": 16,
   "id": "79f62134-665a-49dd-b9b4-d604b5f57fd5",
   "metadata": {},
   "outputs": [],
   "source": [
    "# Make predictions for train data\n",
    "y_pred_train = classifier.predict(X_train_transformed)\n",
    "\n",
    "# Make predictions for test data\n",
    "y_pred_test = classifier.predict(X_test_transformed)"
   ]
  },
  {
   "cell_type": "code",
   "execution_count": 17,
   "id": "7bd94e4b-8ad4-41f0-ba99-dab973a6e512",
   "metadata": {},
   "outputs": [
    {
     "name": "stdout",
     "output_type": "stream",
     "text": [
      "Accuracy is :99.4118944350511\n",
      "\n",
      "Precision is :99.50935645823826\n",
      "\n",
      "AUC is :0.99\n",
      "\n",
      "Confusion Matrix\n",
      "----------------\n"
     ]
    },
    {
     "data": {
      "image/png": "[encoded data removed]",
      "text/plain": [
       "<Figure size 640x480 with 2 Axes>"
      ]
     },
     "metadata": {},
     "output_type": "display_data"
    }
   ],
   "source": [
    "# Evaluate tree for train data\n",
    "\n",
    "# Calculate accuracy \n",
    "acc = accuracy_score(y_train,y_pred_train) * 100\n",
    "print('Accuracy is :{0}'.format(acc))\n",
    "\n",
    "# Calculate precision \n",
    "prec = precision_score(y_train,y_pred_train) * 100\n",
    "print('\\nPrecision is :{0}'.format(prec))\n",
    "\n",
    "# Check the AUC for predictions\n",
    "false_positive_rate, true_positive_rate, thresholds = roc_curve(y_train, y_pred_train)\n",
    "roc_auc = auc(false_positive_rate, true_positive_rate)\n",
    "print('\\nAUC is :{0}'.format(round(roc_auc, 2)))\n",
    "\n",
    "# Create and print a confusion matrix \n",
    "print('\\nConfusion Matrix')\n",
    "print('----------------')\n",
    "cm_train = confusion_matrix(y_train, y_pred_train)\n",
    "\n",
    "cm_train_disp = ConfusionMatrixDisplay(confusion_matrix=cm_train,\n",
    "                                      display_labels=classifier.classes_)\n",
    "cm_train_disp.plot();"
   ]
  },
  {
   "cell_type": "code",
   "execution_count": 18,
   "id": "38e9986c-9f0d-44e9-8516-cae007d8a269",
   "metadata": {},
   "outputs": [
    {
     "name": "stdout",
     "output_type": "stream",
     "text": [
      "Accuracy is :87.38559929429927\n",
      "\n",
      "Precision is :81.24794745484401\n",
      "\n",
      "AUC is :0.86\n",
      "\n",
      "Confusion Matrix\n",
      "----------------\n"
     ]
    },
    {
     "data": {
      "image/png": "[encoded data removed]",
      "text/plain": [
       "<Figure size 640x480 with 2 Axes>"
      ]
     },
     "metadata": {},
     "output_type": "display_data"
    }
   ],
   "source": [
    "# Evaluate tree for test data\n",
    "\n",
    "# Calculate accuracy \n",
    "acc = accuracy_score(y_test,y_pred_test) * 100\n",
    "print('Accuracy is :{0}'.format(acc))\n",
    "\n",
    "# Calculate precision \n",
    "prec = precision_score(y_test,y_pred_test) * 100\n",
    "print('\\nPrecision is :{0}'.format(prec))\n",
    "\n",
    "# Check the AUC for predictions\n",
    "false_positive_rate, true_positive_rate, thresholds = roc_curve(y_test, y_pred_test)\n",
    "roc_auc = auc(false_positive_rate, true_positive_rate)\n",
    "print('\\nAUC is :{0}'.format(round(roc_auc, 2)))\n",
    "\n",
    "# Create and print a confusion matrix \n",
    "print('\\nConfusion Matrix')\n",
    "print('----------------')\n",
    "cm_test = confusion_matrix(y_test, y_pred_test)\n",
    "\n",
    "cm_test_disp = ConfusionMatrixDisplay(confusion_matrix=cm_test,\n",
    "                                      display_labels=classifier.classes_)\n",
    "cm_test_disp.plot();"
   ]
  },
  {
   "cell_type": "markdown",
   "id": "ab14547f-e736-4908-95ff-0f3c3cf560f2",
   "metadata": {},
   "source": [
    "The baseline model performed better on the test data than I had anticipated. It produced an accuracy score of 87% and an AUC of 0.86. I do want to create a model that will produce a much better precision score, however, because 81% is quite low given our goal. We want to determine how many rooms the hotel can oversell, given the prediction of cancellations. The hotel does not want to oversell rooms and end up without space for guests and having to cancel their reservations.\n",
    "\n",
    "In this case, false negatives are better than false positive. A false positive would be predicting that a hotel guest will cancel their reservation, but they end of keeping it. A false negative would be predicting that a hotel guest will keep their reservation but they end up canceling it. We want to avoid false positives becuase that will lead to the hotel overselling too many rooms and not having enough rooms for the number of guests who kept their room reservations."
   ]
  },
  {
   "cell_type": "markdown",
   "id": "547d46f2-09fc-4c56-8f14-92ef41ea0b58",
   "metadata": {},
   "source": [
    "### Modeling Iterations"
   ]
  },
  {
   "cell_type": "markdown",
   "id": "5514db3a-2fb9-46bf-a77f-4d226c333d2c",
   "metadata": {},
   "source": []
  },
  {
   "cell_type": "code",
   "execution_count": 20,
   "id": "e6285427-4166-4ed7-a098-1823099ef261",
   "metadata": {},
   "outputs": [
    {
     "data": {
      "image/png": "[encoded data removed]",
      "text/plain": [
       "<Figure size 600x300 with 1 Axes>"
      ]
     },
     "metadata": {},
     "output_type": "display_data"
    },
    {
     "data": {
      "image/png": "[encoded data removed]",
      "text/plain": [
       "<Figure size 600x300 with 1 Axes>"
      ]
     },
     "metadata": {},
     "output_type": "display_data"
    },
    {
     "data": {
      "image/png": "[encoded data removed]",
      "text/plain": [
       "<Figure size 600x300 with 1 Axes>"
      ]
     },
     "metadata": {},
     "output_type": "display_data"
    }
   ],
   "source": [
    "acc = []\n",
    "prec = []\n",
    "aucs = []\n",
    "\n",
    "for i in range(1, 31):\n",
    "    classifier = DecisionTreeClassifier(criterion='entropy', max_depth=i, random_state=28)\n",
    "    classifier.fit(X_train_transformed, y_train)\n",
    "    y_pred_test = classifier.predict(X_test_transformed)\n",
    "    \n",
    "    acc_score = accuracy_score(y_test,y_pred_test) * 100\n",
    "    \n",
    "    prec_score = precision_score(y_test,y_pred_test) * 100\n",
    "    \n",
    "    false_positive_rate, true_positive_rate, thresholds = roc_curve(y_test, y_pred_test)\n",
    "    roc_auc = auc(false_positive_rate, true_positive_rate)\n",
    "    \n",
    "    acc.append(acc_score)\n",
    "    prec.append(prec_score)\n",
    "    aucs.append(roc_auc)\n",
    "\n",
    "plt.figure(figsize=(6,3))\n",
    "plt.plot(np.linspace(0,31,30), acc, label='Accuracy', c='blue')\n",
    "plt.xlabel('Tree Depth')\n",
    "plt.ylabel('Accuracy')\n",
    "plt.legend()\n",
    "plt.show()\n",
    "\n",
    "plt.figure(figsize=(6,3))\n",
    "plt.plot(np.linspace(0,31,30), prec, label='Precision', c='green')\n",
    "plt.xlabel('Tree Depth')\n",
    "plt.ylabel('Precision')\n",
    "plt.legend()\n",
    "plt.show()\n",
    "\n",
    "plt.figure(figsize=(6,3))\n",
    "plt.plot(np.linspace(0,31,30), aucs, label='AUC', c='green')\n",
    "plt.xlabel('Tree Depth')\n",
    "plt.ylabel('AUC')\n",
    "plt.legend()\n",
    "plt.show()"
   ]
  },
  {
   "cell_type": "code",
   "execution_count": 23,
   "id": "cf66305b-68ee-42d3-a07d-62ca9f770653",
   "metadata": {},
   "outputs": [
    {
     "data": {
      "image/png": "[encoded data removed]",
      "text/plain": [
       "<Figure size 600x300 with 1 Axes>"
      ]
     },
     "metadata": {},
     "output_type": "display_data"
    },
    {
     "data": {
      "image/png": "[encoded data removed]",
      "text/plain": [
       "<Figure size 600x300 with 1 Axes>"
      ]
     },
     "metadata": {},
     "output_type": "display_data"
    },
    {
     "data": {
      "image/png": "[encoded data removed]",
      "text/plain": [
       "<Figure size 600x300 with 1 Axes>"
      ]
     },
     "metadata": {},
     "output_type": "display_data"
    }
   ],
   "source": [
    "acc = []\n",
    "prec = []\n",
    "aucs = []\n",
    "\n",
    "for i in range(2, 11):\n",
    "    classifier = DecisionTreeClassifier(criterion='entropy', min_samples_split=i, random_state=28)\n",
    "    classifier.fit(X_train_transformed, y_train)\n",
    "    y_pred_test = classifier.predict(X_test_transformed)\n",
    "    \n",
    "    acc_score = accuracy_score(y_test,y_pred_test) * 100\n",
    "    \n",
    "    prec_score = precision_score(y_test,y_pred_test) * 100\n",
    "    \n",
    "    false_positive_rate, true_positive_rate, thresholds = roc_curve(y_test, y_pred_test)\n",
    "    roc_auc = auc(false_positive_rate, true_positive_rate)\n",
    "    \n",
    "    acc.append(acc_score)\n",
    "    prec.append(prec_score)\n",
    "    aucs.append(roc_auc)\n",
    "\n",
    "plt.figure(figsize=(6,3))\n",
    "plt.plot(np.linspace(2,11,9), acc, label='Accuracy', c='blue')\n",
    "plt.xlabel('Samples Split')\n",
    "plt.ylabel('Accuracy')\n",
    "plt.legend()\n",
    "plt.show()\n",
    "\n",
    "plt.figure(figsize=(6,3))\n",
    "plt.plot(np.linspace(2,11,9), prec, label='Precision', c='green')\n",
    "plt.xlabel('Samples Split')\n",
    "plt.ylabel('Precision')\n",
    "plt.legend()\n",
    "plt.show()\n",
    "\n",
    "plt.figure(figsize=(6,3))\n",
    "plt.plot(np.linspace(2,11,9), aucs, label='AUC', c='green')\n",
    "plt.xlabel('Samples Split')\n",
    "plt.ylabel('AUC')\n",
    "plt.legend()\n",
    "plt.show()"
   ]
  },
  {
   "cell_type": "code",
   "execution_count": null,
   "id": "a3e44439-54e8-40ac-af2d-0457ef3a9425",
   "metadata": {},
   "outputs": [],
   "source": []
  },
  {
   "cell_type": "markdown",
   "id": "123f731e-e792-438b-8c9d-60f7dfbe3823",
   "metadata": {},
   "source": [
    "### Final Model"
   ]
  },
  {
   "cell_type": "markdown",
   "id": "20d015c5-3d51-4763-8e27-9e92f5acbfa0",
   "metadata": {},
   "source": []
  },
  {
   "cell_type": "markdown",
   "id": "8837f64b-3ae3-4509-bc79-3dcdb6909128",
   "metadata": {},
   "source": [
    "## Conclusions"
   ]
  },
  {
   "cell_type": "markdown",
   "id": "072b0918-a7ca-46cb-9357-43dbea741de0",
   "metadata": {},
   "source": []
  }
 ],
 "metadata": {
  "kernelspec": {
   "display_name": "Python 3 (ipykernel)",
   "language": "python",
   "name": "python3"
  },
  "language_info": {
   "codemirror_mode": {
    "name": "ipython",
    "version": 3
   },
   "file_extension": ".py",
   "mimetype": "text/x-python",
   "name": "python",
   "nbconvert_exporter": "python",
   "pygments_lexer": "ipython3",
   "version": "3.11.5"
  }
 },
 "nbformat": 4,
 "nbformat_minor": 5
}
