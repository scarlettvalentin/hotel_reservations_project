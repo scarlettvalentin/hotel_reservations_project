{
 "cells": [
  {
   "cell_type": "markdown",
   "id": "c65815ff-8cf2-460e-8ef2-48542955aa4b",
   "metadata": {},
   "source": [
    "# Hotel Reservations"
   ]
  },
  {
   "cell_type": "markdown",
   "id": "4632888a-7514-439f-963b-e6cb90bc4224",
   "metadata": {},
   "source": [
    "## Overview"
   ]
  },
  {
   "cell_type": "markdown",
   "id": "816448de-6a33-4aed-82e9-2488fc15a483",
   "metadata": {},
   "source": []
  },
  {
   "cell_type": "markdown",
   "id": "98f17fbf-73cd-401b-a901-86a7c3128904",
   "metadata": {},
   "source": [
    "## Business Understanding"
   ]
  },
  {
   "cell_type": "markdown",
   "id": "cd188f48-3942-4b69-b8cd-344d2fd0ab1e",
   "metadata": {},
   "source": []
  },
  {
   "cell_type": "markdown",
   "id": "52b663e7-e91d-429a-820e-27b518f304cc",
   "metadata": {},
   "source": [
    "## Data Understanding"
   ]
  },
  {
   "cell_type": "markdown",
   "id": "4436f4ff-895d-4a72-8380-e9da27f1a64e",
   "metadata": {},
   "source": []
  },
  {
   "cell_type": "markdown",
   "id": "d5722a4a-e3bf-40e9-bba2-1d18e0aa8856",
   "metadata": {},
   "source": [
    "## Data Preparation"
   ]
  },
  {
   "cell_type": "markdown",
   "id": "7f8fcd61-3a04-4406-922e-73178741ddf2",
   "metadata": {},
   "source": []
  },
  {
   "cell_type": "markdown",
   "id": "7d602fba-0aad-4df1-a4e8-2a4c77579c00",
   "metadata": {},
   "source": [
    "## Modeling"
   ]
  },
  {
   "cell_type": "markdown",
   "id": "c74af700-9a5a-414c-8218-9d769281f6b0",
   "metadata": {},
   "source": []
  },
  {
   "cell_type": "markdown",
   "id": "ebe2e1b8-c85f-45a1-b4af-d43f3c513693",
   "metadata": {},
   "source": [
    "### Baseline Understanding"
   ]
  },
  {
   "cell_type": "markdown",
   "id": "a9714001-4601-4a3b-a707-892791521b2f",
   "metadata": {},
   "source": []
  },
  {
   "cell_type": "markdown",
   "id": "03502049-73d1-458f-b964-c4445e587096",
   "metadata": {},
   "source": [
    "### First Model"
   ]
  },
  {
   "cell_type": "markdown",
   "id": "7b50d370-0aa6-4aa4-b3d0-b4b60138c09b",
   "metadata": {},
   "source": []
  },
  {
   "cell_type": "markdown",
   "id": "547d46f2-09fc-4c56-8f14-92ef41ea0b58",
   "metadata": {},
   "source": [
    "### Modeling Iterations"
   ]
  },
  {
   "cell_type": "markdown",
   "id": "5514db3a-2fb9-46bf-a77f-4d226c333d2c",
   "metadata": {},
   "source": []
  },
  {
   "cell_type": "markdown",
   "id": "123f731e-e792-438b-8c9d-60f7dfbe3823",
   "metadata": {},
   "source": [
    "### Final Model"
   ]
  },
  {
   "cell_type": "markdown",
   "id": "20d015c5-3d51-4763-8e27-9e92f5acbfa0",
   "metadata": {},
   "source": []
  },
  {
   "cell_type": "markdown",
   "id": "8837f64b-3ae3-4509-bc79-3dcdb6909128",
   "metadata": {},
   "source": [
    "## Conclusions"
   ]
  },
  {
   "cell_type": "markdown",
   "id": "072b0918-a7ca-46cb-9357-43dbea741de0",
   "metadata": {},
   "source": []
  }
 ],
 "metadata": {
  "kernelspec": {
   "display_name": "Python 3 (ipykernel)",
   "language": "python",
   "name": "python3"
  },
  "language_info": {
   "codemirror_mode": {
    "name": "ipython",
    "version": 3
   },
   "file_extension": ".py",
   "mimetype": "text/x-python",
   "name": "python",
   "nbconvert_exporter": "python",
   "pygments_lexer": "ipython3",
   "version": "3.11.5"
  }
 },
 "nbformat": 4,
 "nbformat_minor": 5
}
